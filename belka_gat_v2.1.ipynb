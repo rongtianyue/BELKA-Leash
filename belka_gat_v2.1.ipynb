{
 "cells": [
  {
   "cell_type": "code",
   "execution_count": 1,
   "id": "1b7a848b",
   "metadata": {
    "_cell_guid": "b1076dfc-b9ad-4769-8c92-a6c4dae69d19",
    "_uuid": "8f2839f25d086af736a60e9eeb907d3b93b6e0e5",
    "execution": {
     "iopub.execute_input": "2024-06-11T05:19:17.432572Z",
     "iopub.status.busy": "2024-06-11T05:19:17.432069Z",
     "iopub.status.idle": "2024-06-11T05:20:55.396463Z",
     "shell.execute_reply": "2024-06-11T05:20:55.395021Z"
    },
    "papermill": {
     "duration": 97.973865,
     "end_time": "2024-06-11T05:20:55.399349",
     "exception": false,
     "start_time": "2024-06-11T05:19:17.425484",
     "status": "completed"
    },
    "tags": []
   },
   "outputs": [
    {
     "name": "stdout",
     "output_type": "stream",
     "text": [
      "Collecting rdkit\r\n",
      "  Downloading rdkit-2023.9.6-cp310-cp310-manylinux_2_17_x86_64.manylinux2014_x86_64.whl.metadata (3.9 kB)\r\n",
      "Requirement already satisfied: numpy in /opt/conda/lib/python3.10/site-packages (from rdkit) (1.26.4)\r\n",
      "Requirement already satisfied: Pillow in /opt/conda/lib/python3.10/site-packages (from rdkit) (9.5.0)\r\n",
      "Downloading rdkit-2023.9.6-cp310-cp310-manylinux_2_17_x86_64.manylinux2014_x86_64.whl (34.9 MB)\r\n",
      "\u001b[2K   \u001b[90m━━━━━━━━━━━━━━━━━━━━━━━━━━━━━━━━━━━━━━━━\u001b[0m \u001b[32m34.9/34.9 MB\u001b[0m \u001b[31m38.2 MB/s\u001b[0m eta \u001b[36m0:00:00\u001b[0m\r\n",
      "\u001b[?25hInstalling collected packages: rdkit\r\n",
      "Successfully installed rdkit-2023.9.6\r\n",
      "Collecting duckdb\r\n",
      "  Downloading duckdb-1.0.0-cp310-cp310-manylinux_2_17_x86_64.manylinux2014_x86_64.whl.metadata (762 bytes)\r\n",
      "Downloading duckdb-1.0.0-cp310-cp310-manylinux_2_17_x86_64.manylinux2014_x86_64.whl (18.5 MB)\r\n",
      "\u001b[2K   \u001b[90m━━━━━━━━━━━━━━━━━━━━━━━━━━━━━━━━━━━━━━━━\u001b[0m \u001b[32m18.5/18.5 MB\u001b[0m \u001b[31m59.1 MB/s\u001b[0m eta \u001b[36m0:00:00\u001b[0m\r\n",
      "\u001b[?25hInstalling collected packages: duckdb\r\n",
      "Successfully installed duckdb-1.0.0\r\n",
      "Requirement already satisfied: pandas in /opt/conda/lib/python3.10/site-packages (2.2.2)\r\n",
      "Requirement already satisfied: networkx in /opt/conda/lib/python3.10/site-packages (3.2.1)\r\n",
      "Requirement already satisfied: numpy>=1.22.4 in /opt/conda/lib/python3.10/site-packages (from pandas) (1.26.4)\r\n",
      "Requirement already satisfied: python-dateutil>=2.8.2 in /opt/conda/lib/python3.10/site-packages (from pandas) (2.9.0.post0)\r\n",
      "Requirement already satisfied: pytz>=2020.1 in /opt/conda/lib/python3.10/site-packages (from pandas) (2023.3.post1)\r\n",
      "Requirement already satisfied: tzdata>=2022.7 in /opt/conda/lib/python3.10/site-packages (from pandas) (2023.4)\r\n",
      "Requirement already satisfied: six>=1.5 in /opt/conda/lib/python3.10/site-packages (from python-dateutil>=2.8.2->pandas) (1.16.0)\r\n",
      "Requirement already satisfied: torch in /opt/conda/lib/python3.10/site-packages (2.1.2+cpu)\r\n",
      "Requirement already satisfied: filelock in /opt/conda/lib/python3.10/site-packages (from torch) (3.13.1)\r\n",
      "Requirement already satisfied: typing-extensions in /opt/conda/lib/python3.10/site-packages (from torch) (4.9.0)\r\n",
      "Requirement already satisfied: sympy in /opt/conda/lib/python3.10/site-packages (from torch) (1.12.1)\r\n",
      "Requirement already satisfied: networkx in /opt/conda/lib/python3.10/site-packages (from torch) (3.2.1)\r\n",
      "Requirement already satisfied: jinja2 in /opt/conda/lib/python3.10/site-packages (from torch) (3.1.2)\r\n",
      "Requirement already satisfied: fsspec in /opt/conda/lib/python3.10/site-packages (from torch) (2024.3.1)\r\n",
      "Requirement already satisfied: MarkupSafe>=2.0 in /opt/conda/lib/python3.10/site-packages (from jinja2->torch) (2.1.3)\r\n",
      "Requirement already satisfied: mpmath<1.4.0,>=1.1.0 in /opt/conda/lib/python3.10/site-packages (from sympy->torch) (1.3.0)\r\n",
      "Collecting torch-geometric\r\n",
      "  Downloading torch_geometric-2.5.3-py3-none-any.whl.metadata (64 kB)\r\n",
      "\u001b[2K     \u001b[90m━━━━━━━━━━━━━━━━━━━━━━━━━━━━━━━━━━━━━━━━\u001b[0m \u001b[32m64.2/64.2 kB\u001b[0m \u001b[31m2.2 MB/s\u001b[0m eta \u001b[36m0:00:00\u001b[0m\r\n",
      "\u001b[?25hRequirement already satisfied: tqdm in /opt/conda/lib/python3.10/site-packages (from torch-geometric) (4.66.4)\r\n",
      "Requirement already satisfied: numpy in /opt/conda/lib/python3.10/site-packages (from torch-geometric) (1.26.4)\r\n",
      "Requirement already satisfied: scipy in /opt/conda/lib/python3.10/site-packages (from torch-geometric) (1.11.4)\r\n",
      "Requirement already satisfied: fsspec in /opt/conda/lib/python3.10/site-packages (from torch-geometric) (2024.3.1)\r\n",
      "Requirement already satisfied: jinja2 in /opt/conda/lib/python3.10/site-packages (from torch-geometric) (3.1.2)\r\n",
      "Requirement already satisfied: aiohttp in /opt/conda/lib/python3.10/site-packages (from torch-geometric) (3.9.1)\r\n",
      "Requirement already satisfied: requests in /opt/conda/lib/python3.10/site-packages (from torch-geometric) (2.32.3)\r\n",
      "Requirement already satisfied: pyparsing in /opt/conda/lib/python3.10/site-packages (from torch-geometric) (3.1.1)\r\n",
      "Requirement already satisfied: scikit-learn in /opt/conda/lib/python3.10/site-packages (from torch-geometric) (1.2.2)\r\n",
      "Requirement already satisfied: psutil>=5.8.0 in /opt/conda/lib/python3.10/site-packages (from torch-geometric) (5.9.3)\r\n",
      "Requirement already satisfied: attrs>=17.3.0 in /opt/conda/lib/python3.10/site-packages (from aiohttp->torch-geometric) (23.2.0)\r\n",
      "Requirement already satisfied: multidict<7.0,>=4.5 in /opt/conda/lib/python3.10/site-packages (from aiohttp->torch-geometric) (6.0.4)\r\n",
      "Requirement already satisfied: yarl<2.0,>=1.0 in /opt/conda/lib/python3.10/site-packages (from aiohttp->torch-geometric) (1.9.3)\r\n",
      "Requirement already satisfied: frozenlist>=1.1.1 in /opt/conda/lib/python3.10/site-packages (from aiohttp->torch-geometric) (1.4.1)\r\n",
      "Requirement already satisfied: aiosignal>=1.1.2 in /opt/conda/lib/python3.10/site-packages (from aiohttp->torch-geometric) (1.3.1)\r\n",
      "Requirement already satisfied: async-timeout<5.0,>=4.0 in /opt/conda/lib/python3.10/site-packages (from aiohttp->torch-geometric) (4.0.3)\r\n",
      "Requirement already satisfied: MarkupSafe>=2.0 in /opt/conda/lib/python3.10/site-packages (from jinja2->torch-geometric) (2.1.3)\r\n",
      "Requirement already satisfied: charset-normalizer<4,>=2 in /opt/conda/lib/python3.10/site-packages (from requests->torch-geometric) (3.3.2)\r\n",
      "Requirement already satisfied: idna<4,>=2.5 in /opt/conda/lib/python3.10/site-packages (from requests->torch-geometric) (3.6)\r\n",
      "Requirement already satisfied: urllib3<3,>=1.21.1 in /opt/conda/lib/python3.10/site-packages (from requests->torch-geometric) (1.26.18)\r\n",
      "Requirement already satisfied: certifi>=2017.4.17 in /opt/conda/lib/python3.10/site-packages (from requests->torch-geometric) (2024.2.2)\r\n",
      "Requirement already satisfied: joblib>=1.1.1 in /opt/conda/lib/python3.10/site-packages (from scikit-learn->torch-geometric) (1.4.2)\r\n",
      "Requirement already satisfied: threadpoolctl>=2.0.0 in /opt/conda/lib/python3.10/site-packages (from scikit-learn->torch-geometric) (3.2.0)\r\n",
      "Downloading torch_geometric-2.5.3-py3-none-any.whl (1.1 MB)\r\n",
      "\u001b[2K   \u001b[90m━━━━━━━━━━━━━━━━━━━━━━━━━━━━━━━━━━━━━━━━\u001b[0m \u001b[32m1.1/1.1 MB\u001b[0m \u001b[31m21.9 MB/s\u001b[0m eta \u001b[36m0:00:00\u001b[0m\r\n",
      "\u001b[?25hInstalling collected packages: torch-geometric\r\n",
      "Successfully installed torch-geometric-2.5.3\r\n",
      "/kaggle/input/leash-BELKA/sample_submission.csv\n",
      "/kaggle/input/leash-BELKA/train.parquet\n",
      "/kaggle/input/leash-BELKA/test.parquet\n",
      "/kaggle/input/leash-BELKA/train.csv\n",
      "/kaggle/input/leash-BELKA/test.csv\n"
     ]
    }
   ],
   "source": [
    "# Install necessary packages\n",
    "!pip install rdkit\n",
    "!pip install duckdb\n",
    "!pip install pandas networkx\n",
    "!pip install torch\n",
    "!pip install torch-geometric\n",
    "\n",
    "# Import libraries\n",
    "import numpy as np \n",
    "import pandas as pd \n",
    "import duckdb\n",
    "from torch.utils.data import Dataset\n",
    "from rdkit import Chem\n",
    "from rdkit.Chem import AllChem\n",
    "import torch\n",
    "from torch_geometric.data import Data\n",
    "from torch_geometric.loader import DataLoader\n",
    "from sklearn.preprocessing import LabelEncoder\n",
    "import networkx as nx\n",
    "import matplotlib.pyplot as plt\n",
    "\n",
    "# Input data files are available in the read-only \"../input/\" directory\n",
    "# For example, running this (by clicking run or pressing Shift+Enter) will list all files under the input directory\n",
    "\n",
    "import os\n",
    "for dirname, _, filenames in os.walk('/kaggle/input'):\n",
    "    for filename in filenames:\n",
    "        print(os.path.join(dirname, filename))\n",
    "\n",
    "# You can write up to 20GB to the current directory (/kaggle/working/) that gets preserved as output when you create a version using \"Save & Run All\" \n",
    "# You can also write temporary files to /kaggle/temp/, but they won't be saved outside of the current session"
   ]
  },
  {
   "cell_type": "code",
   "execution_count": 2,
   "id": "c270e77c",
   "metadata": {
    "execution": {
     "iopub.execute_input": "2024-06-11T05:20:55.421693Z",
     "iopub.status.busy": "2024-06-11T05:20:55.420802Z",
     "iopub.status.idle": "2024-06-11T05:22:00.975453Z",
     "shell.execute_reply": "2024-06-11T05:22:00.974149Z"
    },
    "papermill": {
     "duration": 65.57905,
     "end_time": "2024-06-11T05:22:00.987033",
     "exception": false,
     "start_time": "2024-06-11T05:20:55.407983",
     "status": "completed"
    },
    "tags": []
   },
   "outputs": [
    {
     "data": {
      "application/vnd.jupyter.widget-view+json": {
       "model_id": "d8b1517a881e4d44836a5fd596228bd1",
       "version_major": 2,
       "version_minor": 0
      },
      "text/plain": [
       "FloatProgress(value=0.0, layout=Layout(width='auto'), style=ProgressStyle(bar_color='black'))"
      ]
     },
     "metadata": {},
     "output_type": "display_data"
    },
    {
     "name": "stdout",
     "output_type": "stream",
     "text": [
      "          id                                    molecule_smiles protein_name\n",
      "0  295246830  C#CCCC[C@H](Nc1nc(Nc2ccc(C=C)cc2)nc(Nc2ccc(C=C...         BRD4\n",
      "1  295246831  C#CCCC[C@H](Nc1nc(Nc2ccc(C=C)cc2)nc(Nc2ccc(C=C...          HSA\n",
      "2  295246832  C#CCCC[C@H](Nc1nc(Nc2ccc(C=C)cc2)nc(Nc2ccc(C=C...          sEH\n",
      "3  295246833  C#CCCC[C@H](Nc1nc(Nc2ccc(C=C)cc2)nc(Nc2ncnc3c2...         BRD4\n",
      "4  295246834  C#CCCC[C@H](Nc1nc(Nc2ccc(C=C)cc2)nc(Nc2ncnc3c2...          HSA\n"
     ]
    }
   ],
   "source": [
    "train_path = '/kaggle/input/leash-BELKA/train.parquet'\n",
    "test_path = '/kaggle/input/leash-BELKA/test.csv'\n",
    "\n",
    "con = duckdb.connect()\n",
    "df = con.query(f\"\"\"(SELECT * FROM parquet_scan('{train_path}') WHERE binds = 0 ORDER BY random() LIMIT 30000) \n",
    "                   UNION ALL \n",
    "                   (SELECT * FROM parquet_scan('{train_path}') WHERE binds = 1 ORDER BY random() LIMIT 30000)\"\"\").df()\n",
    "con.close()\n",
    "\n",
    "df = df.drop(['buildingblock1_smiles', 'buildingblock2_smiles', 'buildingblock3_smiles'], axis=1)\n",
    "\n",
    "test_df = pd.read_csv(test_path)\n",
    "test_df = test_df.drop(['buildingblock1_smiles', 'buildingblock2_smiles', 'buildingblock3_smiles'], axis=1)\n",
    "print(test_df.head())"
   ]
  },
  {
   "cell_type": "code",
   "execution_count": 3,
   "id": "baca292f",
   "metadata": {
    "execution": {
     "iopub.execute_input": "2024-06-11T05:22:01.007389Z",
     "iopub.status.busy": "2024-06-11T05:22:01.006964Z",
     "iopub.status.idle": "2024-06-11T05:22:01.015458Z",
     "shell.execute_reply": "2024-06-11T05:22:01.013436Z"
    },
    "papermill": {
     "duration": 0.021785,
     "end_time": "2024-06-11T05:22:01.018212",
     "exception": false,
     "start_time": "2024-06-11T05:22:00.996427",
     "status": "completed"
    },
    "tags": []
   },
   "outputs": [],
   "source": [
    "# pd.set_option('display.max_colwidth', None)\n",
    "# df.sample(n=10)\n",
    "\n",
    "# import matplotlib.pyplot as plt\n",
    "\n",
    "# df['binds'].value_counts().plot(kind='bar')\n",
    "# plt.title('Training Data Distribution')\n",
    "# plt.show()"
   ]
  },
  {
   "cell_type": "code",
   "execution_count": 4,
   "id": "b88b20a3",
   "metadata": {
    "execution": {
     "iopub.execute_input": "2024-06-11T05:22:01.038155Z",
     "iopub.status.busy": "2024-06-11T05:22:01.037053Z",
     "iopub.status.idle": "2024-06-11T06:05:27.114771Z",
     "shell.execute_reply": "2024-06-11T06:05:27.112673Z"
    },
    "papermill": {
     "duration": 2606.091277,
     "end_time": "2024-06-11T06:05:27.118283",
     "exception": false,
     "start_time": "2024-06-11T05:22:01.027006",
     "status": "completed"
    },
    "tags": []
   },
   "outputs": [],
   "source": [
    "# Encode protein names to numerical values\n",
    "protein_encoder = LabelEncoder()\n",
    "protein_encoder.fit(['HSA', 'BRD4', 'sEH'])\n",
    "\n",
    "# Function to convert SMILES and protein to graph\n",
    "def smiles_to_graph(smiles, protein):\n",
    "    mol = Chem.MolFromSmiles(smiles)\n",
    "    if mol is None:\n",
    "        return None\n",
    "    nodes = [atom.GetAtomicNum() for atom in mol.GetAtoms()]\n",
    "    edges = [(bond.GetBeginAtomIdx(), bond.GetEndAtomIdx()) for bond in mol.GetBonds()]\n",
    "    edge_index = torch.tensor(edges, dtype=torch.long).t().contiguous()\n",
    "    x = torch.tensor(nodes, dtype=torch.float).view(-1, 1)\n",
    "    protein_encoded = protein_encoder.transform([protein])[0]\n",
    "    protein_feature = torch.tensor([protein_encoded], dtype=torch.float)\n",
    "    protein_features = protein_feature.repeat(x.size(0), 1)\n",
    "    x = torch.cat([x, protein_features], dim=1)\n",
    "    return Data(x=x, edge_index=edge_index)\n",
    "\n",
    "# Apply the function to the dataframes\n",
    "df['graph'] = df.apply(lambda row: smiles_to_graph(row['molecule_smiles'], row['protein_name']), axis=1)\n",
    "df = df[df['graph'].notnull()]\n",
    "test_df['graph'] = test_df.apply(lambda row: smiles_to_graph(row['molecule_smiles'], row['protein_name']), axis=1)\n",
    "test_df = test_df[test_df['graph'].notnull()]\n"
   ]
  },
  {
   "cell_type": "code",
   "execution_count": 5,
   "id": "3b821b60",
   "metadata": {
    "execution": {
     "iopub.execute_input": "2024-06-11T06:05:27.140570Z",
     "iopub.status.busy": "2024-06-11T06:05:27.140133Z",
     "iopub.status.idle": "2024-06-11T06:05:27.152275Z",
     "shell.execute_reply": "2024-06-11T06:05:27.151120Z"
    },
    "papermill": {
     "duration": 0.02611,
     "end_time": "2024-06-11T06:05:27.154860",
     "exception": false,
     "start_time": "2024-06-11T06:05:27.128750",
     "status": "completed"
    },
    "tags": []
   },
   "outputs": [],
   "source": [
    "class MoleculeDataset(Dataset):\n",
    "    def __init__(self, dataframe):\n",
    "        self.dataframe = dataframe\n",
    "\n",
    "    def __len__(self):\n",
    "        return len(self.dataframe)\n",
    "\n",
    "    def __getitem__(self, idx):\n",
    "        data = self.dataframe.iloc[idx]\n",
    "        graph = data['graph']\n",
    "        label = torch.tensor(data['binds'], dtype=torch.long)\n",
    "        return graph, label\n",
    "\n",
    "class TestMoleculeDataset(Dataset):\n",
    "    def __init__(self, dataframe):\n",
    "        self.dataframe = dataframe\n",
    "\n",
    "    def __len__(self):\n",
    "        return len(self.dataframe)\n",
    "\n",
    "    def __getitem__(self, idx):\n",
    "        data = self.dataframe.iloc[idx]\n",
    "        graph = data['graph']\n",
    "        return graph\n",
    "\n",
    "# Create dataset and data loader\n",
    "dataset = MoleculeDataset(df)\n",
    "data_loader = DataLoader(dataset, batch_size=32, shuffle=True)\n",
    "test_dataset = TestMoleculeDataset(test_df)\n",
    "test_data_loader = DataLoader(test_dataset, batch_size=32, shuffle=False)"
   ]
  },
  {
   "cell_type": "code",
   "execution_count": 6,
   "id": "06a862e2",
   "metadata": {
    "execution": {
     "iopub.execute_input": "2024-06-11T06:05:27.174717Z",
     "iopub.status.busy": "2024-06-11T06:05:27.174294Z",
     "iopub.status.idle": "2024-06-11T06:05:27.342270Z",
     "shell.execute_reply": "2024-06-11T06:05:27.340987Z"
    },
    "papermill": {
     "duration": 0.181163,
     "end_time": "2024-06-11T06:05:27.345251",
     "exception": false,
     "start_time": "2024-06-11T06:05:27.164088",
     "status": "completed"
    },
    "tags": []
   },
   "outputs": [],
   "source": [
    "import torch.nn.functional as F\n",
    "from torch_geometric.nn import GATConv, global_mean_pool\n",
    "\n",
    "class GAT(torch.nn.Module):\n",
    "    def __init__(self, input_dim, hidden_dim, output_dim, heads=2):\n",
    "        super(GAT, self).__init__()\n",
    "        self.conv1 = GATConv(input_dim, hidden_dim, heads=heads)\n",
    "        self.conv2 = GATConv(hidden_dim * heads, hidden_dim, heads=heads)\n",
    "        self.conv3 = GATConv(hidden_dim * heads, output_dim, heads=heads)\n",
    "        self.output_dim = output_dim\n",
    "\n",
    "    def forward(self, data):\n",
    "        x, edge_index, batch = data.x, data.edge_index, data.batch\n",
    "        x = F.relu(self.conv1(x, edge_index))\n",
    "        x = F.dropout(x, training=self.training)\n",
    "        x = F.relu(self.conv2(x, edge_index))\n",
    "        x = F.dropout(x, training=self.training)\n",
    "        x = self.conv3(x, edge_index)\n",
    "        x = global_mean_pool(x, batch)\n",
    "        return F.softmax(x, dim=1)\n",
    "\n",
    "# Model instantiation\n",
    "input_dim = 2  # 1 for atomic number + 1 for encoded protein feature\n",
    "hidden_dim = 16\n",
    "output_dim = 2  # Binary classification: bind (1) or not bind (0)\n",
    "model = GAT(input_dim=input_dim, hidden_dim=hidden_dim, output_dim=output_dim)"
   ]
  },
  {
   "cell_type": "code",
   "execution_count": 7,
   "id": "120046d8",
   "metadata": {
    "execution": {
     "iopub.execute_input": "2024-06-11T06:05:27.366044Z",
     "iopub.status.busy": "2024-06-11T06:05:27.365668Z",
     "iopub.status.idle": "2024-06-11T06:22:44.552077Z",
     "shell.execute_reply": "2024-06-11T06:22:44.550650Z"
    },
    "papermill": {
     "duration": 1037.212372,
     "end_time": "2024-06-11T06:22:44.566893",
     "exception": false,
     "start_time": "2024-06-11T06:05:27.354521",
     "status": "completed"
    },
    "tags": []
   },
   "outputs": [
    {
     "name": "stdout",
     "output_type": "stream",
     "text": [
      "Epoch 1, Loss: 1.1633948865890502\n",
      "Epoch 2, Loss: 1.1572464913050333\n",
      "Epoch 3, Loss: 1.155505974706014\n",
      "Epoch 4, Loss: 1.155339768409729\n",
      "Epoch 5, Loss: 1.1545429945627848\n",
      "Epoch 6, Loss: 1.154666792233785\n",
      "Epoch 7, Loss: 1.154460525004069\n",
      "Epoch 8, Loss: 1.1544996538798014\n",
      "Epoch 9, Loss: 1.154043281173706\n",
      "Epoch 10, Loss: 1.153910408592224\n",
      "Epoch 11, Loss: 1.153872773106893\n",
      "Epoch 12, Loss: 1.1533213663736979\n",
      "Epoch 13, Loss: 1.1533981513341267\n",
      "Epoch 14, Loss: 1.1534657995859783\n",
      "Epoch 15, Loss: 1.1522357042948406\n",
      "Epoch 16, Loss: 1.1512876441319784\n",
      "Epoch 17, Loss: 1.150805879910787\n",
      "Epoch 18, Loss: 1.1506221798578897\n",
      "Epoch 19, Loss: 1.1497479002634685\n",
      "Epoch 20, Loss: 1.1494829680124918\n",
      "Epoch 21, Loss: 1.148419375038147\n",
      "Epoch 22, Loss: 1.1480364879608154\n",
      "Epoch 23, Loss: 1.1472791632334391\n",
      "Epoch 24, Loss: 1.1469105029424032\n",
      "Epoch 25, Loss: 1.1467549375851949\n",
      "Epoch 26, Loss: 1.1465237918217976\n",
      "Epoch 27, Loss: 1.146508576329549\n",
      "Epoch 28, Loss: 1.14584521373113\n",
      "Epoch 29, Loss: 1.145844016647339\n",
      "Epoch 30, Loss: 1.1457423350016276\n"
     ]
    }
   ],
   "source": [
    "import torch.optim as optim\n",
    "\n",
    "optimizer = torch.optim.Adam(model.parameters(), lr=0.001)\n",
    "criterion = torch.nn.CrossEntropyLoss()\n",
    "\n",
    "# Training loop\n",
    "epochs = 30\n",
    "model.train()\n",
    "for epoch in range(epochs):\n",
    "    total_loss = 0\n",
    "    for data, labels in data_loader:\n",
    "        optimizer.zero_grad()\n",
    "        out = model(data)\n",
    "        loss = criterion(out, labels)\n",
    "        loss.backward()\n",
    "        optimizer.step()\n",
    "        total_loss += loss.item()\n",
    "    print(f'Epoch {epoch + 1}, Loss: {total_loss / len(data_loader)}')"
   ]
  },
  {
   "cell_type": "code",
   "execution_count": 8,
   "id": "0f5b245f",
   "metadata": {
    "execution": {
     "iopub.execute_input": "2024-06-11T06:22:44.592426Z",
     "iopub.status.busy": "2024-06-11T06:22:44.592009Z",
     "iopub.status.idle": "2024-06-11T06:23:06.752723Z",
     "shell.execute_reply": "2024-06-11T06:23:06.750505Z"
    },
    "papermill": {
     "duration": 22.177614,
     "end_time": "2024-06-11T06:23:06.756400",
     "exception": false,
     "start_time": "2024-06-11T06:22:44.578786",
     "status": "completed"
    },
    "tags": []
   },
   "outputs": [
    {
     "name": "stdout",
     "output_type": "stream",
     "text": [
      "Accuracy: 0.5677166666666666\n"
     ]
    }
   ],
   "source": [
    "def evaluate(model, data_loader):\n",
    "    model.eval()\n",
    "    correct = 0\n",
    "    with torch.no_grad():\n",
    "        for data, labels in data_loader:\n",
    "            out = model(data)\n",
    "            pred = out.argmax(dim=1)\n",
    "            correct += (pred == labels).sum().item()\n",
    "    accuracy = correct / len(data_loader.dataset)\n",
    "    return accuracy\n",
    "\n",
    "# Evaluate the model\n",
    "accuracy = evaluate(model, data_loader)\n",
    "print('Accuracy:', accuracy)"
   ]
  },
  {
   "cell_type": "code",
   "execution_count": 9,
   "id": "e7e653d6",
   "metadata": {
    "execution": {
     "iopub.execute_input": "2024-06-11T06:23:06.785832Z",
     "iopub.status.busy": "2024-06-11T06:23:06.785403Z",
     "iopub.status.idle": "2024-06-11T06:31:54.696940Z",
     "shell.execute_reply": "2024-06-11T06:31:54.695778Z"
    },
    "papermill": {
     "duration": 527.940357,
     "end_time": "2024-06-11T06:31:54.711695",
     "exception": false,
     "start_time": "2024-06-11T06:23:06.771338",
     "status": "completed"
    },
    "tags": []
   },
   "outputs": [
    {
     "name": "stdout",
     "output_type": "stream",
     "text": [
      "Saved predictions to test_predictions.csv\n"
     ]
    }
   ],
   "source": [
    "def make_predictions(model, test_data_loader):\n",
    "    model.eval()\n",
    "    predictions = []\n",
    "    with torch.no_grad():\n",
    "        for data in test_data_loader:\n",
    "            out = model(data)\n",
    "            probs = out[:, 1]  \n",
    "            predictions.extend(probs.cpu().numpy())\n",
    "    return predictions\n",
    "\n",
    "test_predictions = make_predictions(model, test_data_loader)\n",
    "\n",
    "test_df['binds'] = test_predictions\n",
    "\n",
    "output_df = test_df[['id', 'binds']]\n",
    "\n",
    "output_csv_path = 'test_predictions.csv'\n",
    "output_df.to_csv(output_csv_path, index=False)\n",
    "\n",
    "print(f'Saved predictions to {output_csv_path}')"
   ]
  },
  {
   "cell_type": "code",
   "execution_count": 10,
   "id": "cc5a151a",
   "metadata": {
    "execution": {
     "iopub.execute_input": "2024-06-11T06:31:54.740695Z",
     "iopub.status.busy": "2024-06-11T06:31:54.740228Z",
     "iopub.status.idle": "2024-06-11T06:31:55.504328Z",
     "shell.execute_reply": "2024-06-11T06:31:55.503221Z"
    },
    "papermill": {
     "duration": 0.780665,
     "end_time": "2024-06-11T06:31:55.507275",
     "exception": false,
     "start_time": "2024-06-11T06:31:54.726610",
     "status": "completed"
    },
    "tags": []
   },
   "outputs": [
    {
     "data": {
      "image/png": "[encoded data removed]",
      "text/plain": [
       "<Figure size 640x480 with 1 Axes>"
      ]
     },
     "metadata": {},
     "output_type": "display_data"
    },
    {
     "data": {
      "image/png": "[encoded data removed]",
      "text/plain": [
       "<Figure size 640x480 with 1 Axes>"
      ]
     },
     "metadata": {},
     "output_type": "display_data"
    }
   ],
   "source": [
    "def visualize_graph(data):\n",
    "    G = nx.Graph()\n",
    "    x = data.x.numpy()\n",
    "    edge_index = data.edge_index.numpy()\n",
    "    for i, feature in enumerate(x):\n",
    "        G.add_node(i, atom=feature[0], protein=feature[1])\n",
    "    for i in range(edge_index.shape[1]):\n",
    "        G.add_edge(edge_index[0, i], edge_index[1, i])\n",
    "    pos = nx.spring_layout(G)\n",
    "    node_labels = nx.get_node_attributes(G, 'atom')\n",
    "    nx.draw(G, pos, with_labels=True, labels=node_labels, node_color='lightblue', edge_color='gray')\n",
    "    plt.title('Graph Representation of a Molecule')\n",
    "    plt.show()\n",
    "\n",
    "sample_data = df['graph'].sample(1).values[0]\n",
    "visualize_graph(sample_data)\n",
    "\n",
    "sample_test_data = test_df['graph'].sample(1).values[0]\n",
    "visualize_graph(sample_test_data)"
   ]
  }
 ],
 "metadata": {
  "kaggle": {
   "accelerator": "none",
   "dataSources": [
    {
     "databundleVersionId": 8006601,
     "sourceId": 67356,
     "sourceType": "competition"
    }
   ],
   "dockerImageVersionId": 30732,
   "isGpuEnabled": false,
   "isInternetEnabled": true,
   "language": "python",
   "sourceType": "notebook"
  },
  "kernelspec": {
   "display_name": "Python 3",
   "language": "python",
   "name": "python3"
  },
  "language_info": {
   "codemirror_mode": {
    "name": "ipython",
    "version": 3
   },
   "file_extension": ".py",
   "mimetype": "text/x-python",
   "name": "python",
   "nbconvert_exporter": "python",
   "pygments_lexer": "ipython3",
   "version": "3.10.13"
  },
  "papermill": {
   "default_parameters": {},
   "duration": 4364.463729,
   "end_time": "2024-06-11T06:31:58.658956",
   "environment_variables": {},
   "exception": null,
   "input_path": "__notebook__.ipynb",
   "output_path": "__notebook__.ipynb",
   "parameters": {},
   "start_time": "2024-06-11T05:19:14.195227",
   "version": "2.5.0"
  },
  "widgets": {
   "application/vnd.jupyter.widget-state+json": {
    "state": {
     "2c24e0b5165c44ab9ff536f9a654070d": {
      "model_module": "@jupyter-widgets/base",
      "model_module_version": "1.2.0",
      "model_name": "LayoutModel",
      "state": {
       "_model_module": "@jupyter-widgets/base",
       "_model_module_version": "1.2.0",
       "_model_name": "LayoutModel",
       "_view_count": null,
       "_view_module": "@jupyter-widgets/base",
       "_view_module_version": "1.2.0",
       "_view_name": "LayoutView",
       "align_content": null,
       "align_items": null,
       "align_self": null,
       "border": null,
       "bottom": null,
       "display": null,
       "flex": null,
       "flex_flow": null,
       "grid_area": null,
       "grid_auto_columns": null,
       "grid_auto_flow": null,
       "grid_auto_rows": null,
       "grid_column": null,
       "grid_gap": null,
       "grid_row": null,
       "grid_template_areas": null,
       "grid_template_columns": null,
       "grid_template_rows": null,
       "height": null,
       "justify_content": null,
       "justify_items": null,
       "left": null,
       "margin": null,
       "max_height": null,
       "max_width": null,
       "min_height": null,
       "min_width": null,
       "object_fit": null,
       "object_position": null,
       "order": null,
       "overflow": null,
       "overflow_x": null,
       "overflow_y": null,
       "padding": null,
       "right": null,
       "top": null,
       "visibility": null,
       "width": "auto"
      }
     },
     "a6f063af29094a83aa9658408318d746": {
      "model_module": "@jupyter-widgets/controls",
      "model_module_version": "1.5.0",
      "model_name": "ProgressStyleModel",
      "state": {
       "_model_module": "@jupyter-widgets/controls",
       "_model_module_version": "1.5.0",
       "_model_name": "ProgressStyleModel",
       "_view_count": null,
       "_view_module": "@jupyter-widgets/base",
       "_view_module_version": "1.2.0",
       "_view_name": "StyleView",
       "bar_color": "black",
       "description_width": ""
      }
     },
     "d8b1517a881e4d44836a5fd596228bd1": {
      "model_module": "@jupyter-widgets/controls",
      "model_module_version": "1.5.0",
      "model_name": "FloatProgressModel",
      "state": {
       "_dom_classes": [],
       "_model_module": "@jupyter-widgets/controls",
       "_model_module_version": "1.5.0",
       "_model_name": "FloatProgressModel",
       "_view_count": null,
       "_view_module": "@jupyter-widgets/controls",
       "_view_module_version": "1.5.0",
       "_view_name": "ProgressView",
       "bar_style": "",
       "description": "",
       "description_tooltip": null,
       "layout": "IPY_MODEL_2c24e0b5165c44ab9ff536f9a654070d",
       "max": 100.0,
       "min": 0.0,
       "orientation": "horizontal",
       "style": "IPY_MODEL_a6f063af29094a83aa9658408318d746",
       "value": 100.0
      }
     }
    },
    "version_major": 2,
    "version_minor": 0
   }
  }
 },
 "nbformat": 4,
 "nbformat_minor": 5
}
