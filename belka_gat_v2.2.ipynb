{
 "cells": [
  {
   "cell_type": "code",
   "execution_count": 1,
   "id": "476493ca",
   "metadata": {
    "_cell_guid": "b1076dfc-b9ad-4769-8c92-a6c4dae69d19",
    "_uuid": "8f2839f25d086af736a60e9eeb907d3b93b6e0e5",
    "execution": {
     "iopub.execute_input": "2024-06-11T06:57:54.184900Z",
     "iopub.status.busy": "2024-06-11T06:57:54.184249Z",
     "iopub.status.idle": "2024-06-11T06:59:43.962515Z",
     "shell.execute_reply": "2024-06-11T06:59:43.960640Z"
    },
    "papermill": {
     "duration": 109.797813,
     "end_time": "2024-06-11T06:59:43.973866",
     "exception": false,
     "start_time": "2024-06-11T06:57:54.176053",
     "status": "completed"
    },
    "tags": []
   },
   "outputs": [
    {
     "name": "stdout",
     "output_type": "stream",
     "text": [
      "Collecting rdkit\r\n",
      "  Downloading rdkit-2023.9.6-cp310-cp310-manylinux_2_17_x86_64.manylinux2014_x86_64.whl.metadata (3.9 kB)\r\n",
      "Requirement already satisfied: numpy in /opt/conda/lib/python3.10/site-packages (from rdkit) (1.26.4)\r\n",
      "Requirement already satisfied: Pillow in /opt/conda/lib/python3.10/site-packages (from rdkit) (9.5.0)\r\n",
      "Downloading rdkit-2023.9.6-cp310-cp310-manylinux_2_17_x86_64.manylinux2014_x86_64.whl (34.9 MB)\r\n",
      "\u001b[2K   \u001b[90m━━━━━━━━━━━━━━━━━━━━━━━━━━━━━━━━━━━━━━━━\u001b[0m \u001b[32m34.9/34.9 MB\u001b[0m \u001b[31m34.8 MB/s\u001b[0m eta \u001b[36m0:00:00\u001b[0m\r\n",
      "\u001b[?25hInstalling collected packages: rdkit\r\n",
      "Successfully installed rdkit-2023.9.6\r\n",
      "Collecting duckdb\r\n",
      "  Downloading duckdb-1.0.0-cp310-cp310-manylinux_2_17_x86_64.manylinux2014_x86_64.whl.metadata (762 bytes)\r\n",
      "Downloading duckdb-1.0.0-cp310-cp310-manylinux_2_17_x86_64.manylinux2014_x86_64.whl (18.5 MB)\r\n",
      "\u001b[2K   \u001b[90m━━━━━━━━━━━━━━━━━━━━━━━━━━━━━━━━━━━━━━━━\u001b[0m \u001b[32m18.5/18.5 MB\u001b[0m \u001b[31m54.1 MB/s\u001b[0m eta \u001b[36m0:00:00\u001b[0m\r\n",
      "\u001b[?25hInstalling collected packages: duckdb\r\n",
      "Successfully installed duckdb-1.0.0\r\n",
      "Requirement already satisfied: pandas in /opt/conda/lib/python3.10/site-packages (2.2.2)\r\n",
      "Requirement already satisfied: networkx in /opt/conda/lib/python3.10/site-packages (3.2.1)\r\n",
      "Requirement already satisfied: numpy>=1.22.4 in /opt/conda/lib/python3.10/site-packages (from pandas) (1.26.4)\r\n",
      "Requirement already satisfied: python-dateutil>=2.8.2 in /opt/conda/lib/python3.10/site-packages (from pandas) (2.9.0.post0)\r\n",
      "Requirement already satisfied: pytz>=2020.1 in /opt/conda/lib/python3.10/site-packages (from pandas) (2023.3.post1)\r\n",
      "Requirement already satisfied: tzdata>=2022.7 in /opt/conda/lib/python3.10/site-packages (from pandas) (2023.4)\r\n",
      "Requirement already satisfied: six>=1.5 in /opt/conda/lib/python3.10/site-packages (from python-dateutil>=2.8.2->pandas) (1.16.0)\r\n",
      "Requirement already satisfied: torch in /opt/conda/lib/python3.10/site-packages (2.1.2+cpu)\r\n",
      "Requirement already satisfied: filelock in /opt/conda/lib/python3.10/site-packages (from torch) (3.13.1)\r\n",
      "Requirement already satisfied: typing-extensions in /opt/conda/lib/python3.10/site-packages (from torch) (4.9.0)\r\n",
      "Requirement already satisfied: sympy in /opt/conda/lib/python3.10/site-packages (from torch) (1.12.1)\r\n",
      "Requirement already satisfied: networkx in /opt/conda/lib/python3.10/site-packages (from torch) (3.2.1)\r\n",
      "Requirement already satisfied: jinja2 in /opt/conda/lib/python3.10/site-packages (from torch) (3.1.2)\r\n",
      "Requirement already satisfied: fsspec in /opt/conda/lib/python3.10/site-packages (from torch) (2024.3.1)\r\n",
      "Requirement already satisfied: MarkupSafe>=2.0 in /opt/conda/lib/python3.10/site-packages (from jinja2->torch) (2.1.3)\r\n",
      "Requirement already satisfied: mpmath<1.4.0,>=1.1.0 in /opt/conda/lib/python3.10/site-packages (from sympy->torch) (1.3.0)\r\n",
      "Collecting torch-geometric\r\n",
      "  Downloading torch_geometric-2.5.3-py3-none-any.whl.metadata (64 kB)\r\n",
      "\u001b[2K     \u001b[90m━━━━━━━━━━━━━━━━━━━━━━━━━━━━━━━━━━━━━━━━\u001b[0m \u001b[32m64.2/64.2 kB\u001b[0m \u001b[31m2.4 MB/s\u001b[0m eta \u001b[36m0:00:00\u001b[0m\r\n",
      "\u001b[?25hRequirement already satisfied: tqdm in /opt/conda/lib/python3.10/site-packages (from torch-geometric) (4.66.4)\r\n",
      "Requirement already satisfied: numpy in /opt/conda/lib/python3.10/site-packages (from torch-geometric) (1.26.4)\r\n",
      "Requirement already satisfied: scipy in /opt/conda/lib/python3.10/site-packages (from torch-geometric) (1.11.4)\r\n",
      "Requirement already satisfied: fsspec in /opt/conda/lib/python3.10/site-packages (from torch-geometric) (2024.3.1)\r\n",
      "Requirement already satisfied: jinja2 in /opt/conda/lib/python3.10/site-packages (from torch-geometric) (3.1.2)\r\n",
      "Requirement already satisfied: aiohttp in /opt/conda/lib/python3.10/site-packages (from torch-geometric) (3.9.1)\r\n",
      "Requirement already satisfied: requests in /opt/conda/lib/python3.10/site-packages (from torch-geometric) (2.32.3)\r\n",
      "Requirement already satisfied: pyparsing in /opt/conda/lib/python3.10/site-packages (from torch-geometric) (3.1.1)\r\n",
      "Requirement already satisfied: scikit-learn in /opt/conda/lib/python3.10/site-packages (from torch-geometric) (1.2.2)\r\n",
      "Requirement already satisfied: psutil>=5.8.0 in /opt/conda/lib/python3.10/site-packages (from torch-geometric) (5.9.3)\r\n",
      "Requirement already satisfied: attrs>=17.3.0 in /opt/conda/lib/python3.10/site-packages (from aiohttp->torch-geometric) (23.2.0)\r\n",
      "Requirement already satisfied: multidict<7.0,>=4.5 in /opt/conda/lib/python3.10/site-packages (from aiohttp->torch-geometric) (6.0.4)\r\n",
      "Requirement already satisfied: yarl<2.0,>=1.0 in /opt/conda/lib/python3.10/site-packages (from aiohttp->torch-geometric) (1.9.3)\r\n",
      "Requirement already satisfied: frozenlist>=1.1.1 in /opt/conda/lib/python3.10/site-packages (from aiohttp->torch-geometric) (1.4.1)\r\n",
      "Requirement already satisfied: aiosignal>=1.1.2 in /opt/conda/lib/python3.10/site-packages (from aiohttp->torch-geometric) (1.3.1)\r\n",
      "Requirement already satisfied: async-timeout<5.0,>=4.0 in /opt/conda/lib/python3.10/site-packages (from aiohttp->torch-geometric) (4.0.3)\r\n",
      "Requirement already satisfied: MarkupSafe>=2.0 in /opt/conda/lib/python3.10/site-packages (from jinja2->torch-geometric) (2.1.3)\r\n",
      "Requirement already satisfied: charset-normalizer<4,>=2 in /opt/conda/lib/python3.10/site-packages (from requests->torch-geometric) (3.3.2)\r\n",
      "Requirement already satisfied: idna<4,>=2.5 in /opt/conda/lib/python3.10/site-packages (from requests->torch-geometric) (3.6)\r\n",
      "Requirement already satisfied: urllib3<3,>=1.21.1 in /opt/conda/lib/python3.10/site-packages (from requests->torch-geometric) (1.26.18)\r\n",
      "Requirement already satisfied: certifi>=2017.4.17 in /opt/conda/lib/python3.10/site-packages (from requests->torch-geometric) (2024.2.2)\r\n",
      "Requirement already satisfied: joblib>=1.1.1 in /opt/conda/lib/python3.10/site-packages (from scikit-learn->torch-geometric) (1.4.2)\r\n",
      "Requirement already satisfied: threadpoolctl>=2.0.0 in /opt/conda/lib/python3.10/site-packages (from scikit-learn->torch-geometric) (3.2.0)\r\n",
      "Downloading torch_geometric-2.5.3-py3-none-any.whl (1.1 MB)\r\n",
      "\u001b[2K   \u001b[90m━━━━━━━━━━━━━━━━━━━━━━━━━━━━━━━━━━━━━━━━\u001b[0m \u001b[32m1.1/1.1 MB\u001b[0m \u001b[31m20.8 MB/s\u001b[0m eta \u001b[36m0:00:00\u001b[0m\r\n",
      "\u001b[?25hInstalling collected packages: torch-geometric\r\n",
      "Successfully installed torch-geometric-2.5.3\r\n",
      "/kaggle/input/leash-BELKA/sample_submission.csv\n",
      "/kaggle/input/leash-BELKA/train.parquet\n",
      "/kaggle/input/leash-BELKA/test.parquet\n",
      "/kaggle/input/leash-BELKA/train.csv\n",
      "/kaggle/input/leash-BELKA/test.csv\n"
     ]
    }
   ],
   "source": [
    "# Install necessary packages\n",
    "!pip install rdkit\n",
    "!pip install duckdb\n",
    "!pip install pandas networkx\n",
    "!pip install torch\n",
    "!pip install torch-geometric\n",
    "\n",
    "# Import libraries\n",
    "import numpy as np \n",
    "import pandas as pd \n",
    "import duckdb\n",
    "from torch.utils.data import Dataset\n",
    "from rdkit import Chem\n",
    "from rdkit.Chem import AllChem\n",
    "import torch\n",
    "from torch_geometric.data import Data\n",
    "from torch_geometric.loader import DataLoader\n",
    "from sklearn.preprocessing import LabelEncoder\n",
    "import networkx as nx\n",
    "import matplotlib.pyplot as plt\n",
    "from torch.optim.lr_scheduler import ReduceLROnPlateau\n",
    "\n",
    "\n",
    "# Input data files are available in the read-only \"../input/\" directory\n",
    "# For example, running this (by clicking run or pressing Shift+Enter) will list all files under the input directory\n",
    "\n",
    "import os\n",
    "for dirname, _, filenames in os.walk('/kaggle/input'):\n",
    "    for filename in filenames:\n",
    "        print(os.path.join(dirname, filename))\n",
    "\n",
    "# You can write up to 20GB to the current directory (/kaggle/working/) that gets preserved as output when you create a version using \"Save & Run All\" \n",
    "# You can also write temporary files to /kaggle/temp/, but they won't be saved outside of the current session"
   ]
  },
  {
   "cell_type": "code",
   "execution_count": 2,
   "id": "319ed26c",
   "metadata": {
    "execution": {
     "iopub.execute_input": "2024-06-11T06:59:43.995511Z",
     "iopub.status.busy": "2024-06-11T06:59:43.994646Z",
     "iopub.status.idle": "2024-06-11T07:00:54.443296Z",
     "shell.execute_reply": "2024-06-11T07:00:54.441475Z"
    },
    "papermill": {
     "duration": 70.46386,
     "end_time": "2024-06-11T07:00:54.447486",
     "exception": false,
     "start_time": "2024-06-11T06:59:43.983626",
     "status": "completed"
    },
    "tags": []
   },
   "outputs": [
    {
     "data": {
      "application/vnd.jupyter.widget-view+json": {
       "model_id": "7d6e3b0945914775abb7979fa63dee0d",
       "version_major": 2,
       "version_minor": 0
      },
      "text/plain": [
       "FloatProgress(value=0.0, layout=Layout(width='auto'), style=ProgressStyle(bar_color='black'))"
      ]
     },
     "metadata": {},
     "output_type": "display_data"
    },
    {
     "name": "stdout",
     "output_type": "stream",
     "text": [
      "          id                                    molecule_smiles protein_name\n",
      "0  295246830  C#CCCC[C@H](Nc1nc(Nc2ccc(C=C)cc2)nc(Nc2ccc(C=C...         BRD4\n",
      "1  295246831  C#CCCC[C@H](Nc1nc(Nc2ccc(C=C)cc2)nc(Nc2ccc(C=C...          HSA\n",
      "2  295246832  C#CCCC[C@H](Nc1nc(Nc2ccc(C=C)cc2)nc(Nc2ccc(C=C...          sEH\n",
      "3  295246833  C#CCCC[C@H](Nc1nc(Nc2ccc(C=C)cc2)nc(Nc2ncnc3c2...         BRD4\n",
      "4  295246834  C#CCCC[C@H](Nc1nc(Nc2ccc(C=C)cc2)nc(Nc2ncnc3c2...          HSA\n"
     ]
    }
   ],
   "source": [
    "train_path = '/kaggle/input/leash-BELKA/train.parquet'\n",
    "test_path = '/kaggle/input/leash-BELKA/test.csv'\n",
    "\n",
    "con = duckdb.connect()\n",
    "df = con.query(f\"\"\"(SELECT * FROM parquet_scan('{train_path}') WHERE binds = 0 ORDER BY random() LIMIT 50000) \n",
    "                   UNION ALL \n",
    "                   (SELECT * FROM parquet_scan('{train_path}') WHERE binds = 1 ORDER BY random() LIMIT 50000)\"\"\").df()\n",
    "con.close()\n",
    "\n",
    "df = df.drop(['buildingblock1_smiles', 'buildingblock2_smiles', 'buildingblock3_smiles'], axis=1)\n",
    "\n",
    "test_df = pd.read_csv(test_path)\n",
    "test_df = test_df.drop(['buildingblock1_smiles', 'buildingblock2_smiles', 'buildingblock3_smiles'], axis=1)\n",
    "print(test_df.head())"
   ]
  },
  {
   "cell_type": "code",
   "execution_count": 3,
   "id": "0a83df7c",
   "metadata": {
    "execution": {
     "iopub.execute_input": "2024-06-11T07:00:54.472871Z",
     "iopub.status.busy": "2024-06-11T07:00:54.472294Z",
     "iopub.status.idle": "2024-06-11T07:00:54.480499Z",
     "shell.execute_reply": "2024-06-11T07:00:54.478722Z"
    },
    "papermill": {
     "duration": 0.026081,
     "end_time": "2024-06-11T07:00:54.484402",
     "exception": false,
     "start_time": "2024-06-11T07:00:54.458321",
     "status": "completed"
    },
    "tags": []
   },
   "outputs": [],
   "source": [
    "# pd.set_option('display.max_colwidth', None)\n",
    "# df.sample(n=10)\n",
    "\n",
    "# import matplotlib.pyplot as plt\n",
    "\n",
    "# df['binds'].value_counts().plot(kind='bar')\n",
    "# plt.title('Training Data Distribution')\n",
    "# plt.show()"
   ]
  },
  {
   "cell_type": "code",
   "execution_count": 4,
   "id": "6f0aeac2",
   "metadata": {
    "execution": {
     "iopub.execute_input": "2024-06-11T07:00:54.509886Z",
     "iopub.status.busy": "2024-06-11T07:00:54.509327Z",
     "iopub.status.idle": "2024-06-11T07:48:09.782003Z",
     "shell.execute_reply": "2024-06-11T07:48:09.779743Z"
    },
    "papermill": {
     "duration": 2835.293089,
     "end_time": "2024-06-11T07:48:09.788049",
     "exception": false,
     "start_time": "2024-06-11T07:00:54.494960",
     "status": "completed"
    },
    "tags": []
   },
   "outputs": [],
   "source": [
    "# Encode protein names to numerical values\n",
    "protein_encoder = LabelEncoder()\n",
    "protein_encoder.fit(['HSA', 'BRD4', 'sEH'])\n",
    "\n",
    "# Function to convert SMILES and protein to graph\n",
    "def smiles_to_graph(smiles, protein):\n",
    "    mol = Chem.MolFromSmiles(smiles)\n",
    "    if mol is None:\n",
    "        return None\n",
    "    nodes = [atom.GetAtomicNum() for atom in mol.GetAtoms()]\n",
    "    edges = [(bond.GetBeginAtomIdx(), bond.GetEndAtomIdx()) for bond in mol.GetBonds()]\n",
    "    edge_index = torch.tensor(edges, dtype=torch.long).t().contiguous()\n",
    "    x = torch.tensor(nodes, dtype=torch.float).view(-1, 1)\n",
    "    protein_encoded = protein_encoder.transform([protein])[0]\n",
    "    protein_feature = torch.tensor([protein_encoded], dtype=torch.float)\n",
    "    protein_features = protein_feature.repeat(x.size(0), 1)\n",
    "    x = torch.cat([x, protein_features], dim=1)\n",
    "    return Data(x=x, edge_index=edge_index)\n",
    "\n",
    "# Apply the function to the dataframes\n",
    "df['graph'] = df.apply(lambda row: smiles_to_graph(row['molecule_smiles'], row['protein_name']), axis=1)\n",
    "df = df[df['graph'].notnull()]\n",
    "test_df['graph'] = test_df.apply(lambda row: smiles_to_graph(row['molecule_smiles'], row['protein_name']), axis=1)\n",
    "test_df = test_df[test_df['graph'].notnull()]"
   ]
  },
  {
   "cell_type": "code",
   "execution_count": 5,
   "id": "14b327ad",
   "metadata": {
    "execution": {
     "iopub.execute_input": "2024-06-11T07:48:09.814390Z",
     "iopub.status.busy": "2024-06-11T07:48:09.813872Z",
     "iopub.status.idle": "2024-06-11T07:48:09.827371Z",
     "shell.execute_reply": "2024-06-11T07:48:09.826017Z"
    },
    "papermill": {
     "duration": 0.028352,
     "end_time": "2024-06-11T07:48:09.830344",
     "exception": false,
     "start_time": "2024-06-11T07:48:09.801992",
     "status": "completed"
    },
    "tags": []
   },
   "outputs": [],
   "source": [
    "class MoleculeDataset(Dataset):\n",
    "    def __init__(self, dataframe):\n",
    "        self.dataframe = dataframe\n",
    "\n",
    "    def __len__(self):\n",
    "        return len(self.dataframe)\n",
    "\n",
    "    def __getitem__(self, idx):\n",
    "        data = self.dataframe.iloc[idx]\n",
    "        graph = data['graph']\n",
    "        label = torch.tensor(data['binds'], dtype=torch.long)\n",
    "        return graph, label\n",
    "\n",
    "class TestMoleculeDataset(Dataset):\n",
    "    def __init__(self, dataframe):\n",
    "        self.dataframe = dataframe\n",
    "\n",
    "    def __len__(self):\n",
    "        return len(self.dataframe)\n",
    "\n",
    "    def __getitem__(self, idx):\n",
    "        data = self.dataframe.iloc[idx]\n",
    "        graph = data['graph']\n",
    "        return graph\n",
    "\n",
    "dataset = MoleculeDataset(df)\n",
    "data_loader = DataLoader(dataset, batch_size=32, shuffle=True)\n",
    "test_dataset = TestMoleculeDataset(test_df)\n",
    "test_data_loader = DataLoader(test_dataset, batch_size=32, shuffle=False)"
   ]
  },
  {
   "cell_type": "code",
   "execution_count": 6,
   "id": "ea2fd6e0",
   "metadata": {
    "execution": {
     "iopub.execute_input": "2024-06-11T07:48:09.852227Z",
     "iopub.status.busy": "2024-06-11T07:48:09.851752Z",
     "iopub.status.idle": "2024-06-11T07:48:10.018180Z",
     "shell.execute_reply": "2024-06-11T07:48:10.016639Z"
    },
    "papermill": {
     "duration": 0.181219,
     "end_time": "2024-06-11T07:48:10.021570",
     "exception": false,
     "start_time": "2024-06-11T07:48:09.840351",
     "status": "completed"
    },
    "tags": []
   },
   "outputs": [],
   "source": [
    "import torch.nn.functional as F\n",
    "from torch_geometric.nn import GATConv, global_mean_pool\n",
    "\n",
    "class GAT(torch.nn.Module):\n",
    "    def __init__(self, input_dim, hidden_dim, output_dim, heads=2):\n",
    "        super(GAT, self).__init__()\n",
    "        self.conv1 = GATConv(input_dim, hidden_dim, heads=heads)\n",
    "        self.conv2 = GATConv(hidden_dim * heads, hidden_dim, heads=heads)\n",
    "        self.conv3 = GATConv(hidden_dim * heads, output_dim, heads=heads)\n",
    "        self.output_dim = output_dim\n",
    "\n",
    "    def forward(self, data):\n",
    "        x, edge_index, batch = data.x, data.edge_index, data.batch\n",
    "        x = F.relu(self.conv1(x, edge_index))\n",
    "        x = F.dropout(x, training=self.training)\n",
    "        x = F.relu(self.conv2(x, edge_index))\n",
    "        x = F.dropout(x, training=self.training)\n",
    "        x = self.conv3(x, edge_index)\n",
    "        x = global_mean_pool(x, batch)\n",
    "        return F.softmax(x, dim=1)\n",
    "\n",
    "# Model instantiation\n",
    "input_dim = 2  # 1 for atomic number + 1 for encoded protein feature\n",
    "hidden_dim = 16\n",
    "output_dim = 2  # Binary classification: bind (1) or not bind (0)\n",
    "model = GAT(input_dim=input_dim, hidden_dim=hidden_dim, output_dim=output_dim)"
   ]
  },
  {
   "cell_type": "code",
   "execution_count": 7,
   "id": "769c6c3c",
   "metadata": {
    "execution": {
     "iopub.execute_input": "2024-06-11T07:48:10.043296Z",
     "iopub.status.busy": "2024-06-11T07:48:10.042782Z",
     "iopub.status.idle": "2024-06-11T09:56:32.757066Z",
     "shell.execute_reply": "2024-06-11T09:56:32.755482Z"
    },
    "papermill": {
     "duration": 7702.747481,
     "end_time": "2024-06-11T09:56:32.778924",
     "exception": false,
     "start_time": "2024-06-11T07:48:10.031443",
     "status": "completed"
    },
    "tags": []
   },
   "outputs": [
    {
     "name": "stdout",
     "output_type": "stream",
     "text": [
      "Epoch 1, Loss: 1.1594326589584352\n",
      "Validation loss decreased (1.159433 --> 1.159433).  Saving model ...\n",
      "Epoch 2, Loss: 1.1547407428359986\n",
      "Validation loss decreased (1.154741 --> 1.154741).  Saving model ...\n",
      "Epoch 3, Loss: 1.154056090927124\n",
      "Validation loss decreased (1.154056 --> 1.154056).  Saving model ...\n",
      "Epoch 4, Loss: 1.1543032276535035\n",
      "Epoch 5, Loss: 1.1537142210769653\n",
      "Validation loss decreased (1.153714 --> 1.153714).  Saving model ...\n",
      "Epoch 6, Loss: 1.1539375973129273\n",
      "Epoch 7, Loss: 1.1536741549110412\n",
      "Validation loss decreased (1.153674 --> 1.153674).  Saving model ...\n",
      "Epoch 8, Loss: 1.153644380683899\n",
      "Validation loss decreased (1.153644 --> 1.153644).  Saving model ...\n",
      "Epoch 9, Loss: 1.1531566267013549\n",
      "Validation loss decreased (1.153157 --> 1.153157).  Saving model ...\n",
      "Epoch 10, Loss: 1.153281841583252\n",
      "Epoch 11, Loss: 1.153363049736023\n",
      "Epoch 12, Loss: 1.1530923474502563\n",
      "Validation loss decreased (1.153092 --> 1.153092).  Saving model ...\n",
      "Epoch 13, Loss: 1.1529533086395263\n",
      "Validation loss decreased (1.152953 --> 1.152953).  Saving model ...\n",
      "Epoch 14, Loss: 1.1527645093917847\n",
      "Validation loss decreased (1.152765 --> 1.152765).  Saving model ...\n",
      "Epoch 15, Loss: 1.1526832205581665\n",
      "Validation loss decreased (1.152683 --> 1.152683).  Saving model ...\n",
      "Epoch 16, Loss: 1.1524730006027222\n",
      "Validation loss decreased (1.152473 --> 1.152473).  Saving model ...\n",
      "Epoch 17, Loss: 1.1521134173202514\n",
      "Validation loss decreased (1.152113 --> 1.152113).  Saving model ...\n",
      "Epoch 18, Loss: 1.1514346294784545\n",
      "Validation loss decreased (1.151435 --> 1.151435).  Saving model ...\n",
      "Epoch 19, Loss: 1.1509257454681396\n",
      "Validation loss decreased (1.150926 --> 1.150926).  Saving model ...\n",
      "Epoch 20, Loss: 1.1503448123931885\n",
      "Validation loss decreased (1.150345 --> 1.150345).  Saving model ...\n",
      "Epoch 21, Loss: 1.1501325431060792\n",
      "Validation loss decreased (1.150133 --> 1.150133).  Saving model ...\n",
      "Epoch 22, Loss: 1.150017649230957\n",
      "Validation loss decreased (1.150018 --> 1.150018).  Saving model ...\n",
      "Epoch 23, Loss: 1.149651071662903\n",
      "Validation loss decreased (1.149651 --> 1.149651).  Saving model ...\n",
      "Epoch 24, Loss: 1.1494663435745238\n",
      "Validation loss decreased (1.149466 --> 1.149466).  Saving model ...\n",
      "Epoch 25, Loss: 1.1494659563446046\n",
      "Validation loss decreased (1.149466 --> 1.149466).  Saving model ...\n",
      "Epoch 26, Loss: 1.14916758644104\n",
      "Validation loss decreased (1.149168 --> 1.149168).  Saving model ...\n",
      "Epoch 27, Loss: 1.14894887676239\n",
      "Validation loss decreased (1.148949 --> 1.148949).  Saving model ...\n",
      "Epoch 28, Loss: 1.1491901974868775\n",
      "Epoch 29, Loss: 1.1489544351959229\n",
      "Epoch 30, Loss: 1.1487710418701171\n",
      "Validation loss decreased (1.148771 --> 1.148771).  Saving model ...\n",
      "Epoch 31, Loss: 1.148834103012085\n",
      "Epoch 32, Loss: 1.1488849048233032\n",
      "Epoch 33, Loss: 1.1490147394752503\n",
      "Epoch 34, Loss: 1.1489947546005248\n",
      "Epoch 35, Loss: 1.14853911151886\n",
      "Validation loss decreased (1.148539 --> 1.148539).  Saving model ...\n",
      "Epoch 36, Loss: 1.1487060344696045\n",
      "Epoch 37, Loss: 1.1483327490234374\n",
      "Validation loss decreased (1.148333 --> 1.148333).  Saving model ...\n",
      "Epoch 38, Loss: 1.1482525276947022\n",
      "Validation loss decreased (1.148253 --> 1.148253).  Saving model ...\n",
      "Epoch 39, Loss: 1.148630789451599\n",
      "Epoch 40, Loss: 1.1484442890548705\n",
      "Epoch 41, Loss: 1.1485832416534423\n",
      "Epoch 42, Loss: 1.1485510271835326\n",
      "Epoch 43, Loss: 1.1486587606811522\n",
      "Epoch 00043: reducing learning rate of group 0 to 5.0000e-04.\n",
      "Epoch 44, Loss: 1.148007755393982\n",
      "Validation loss decreased (1.148008 --> 1.148008).  Saving model ...\n",
      "Epoch 45, Loss: 1.147709087371826\n",
      "Validation loss decreased (1.147709 --> 1.147709).  Saving model ...\n",
      "Epoch 46, Loss: 1.147451009979248\n",
      "Validation loss decreased (1.147451 --> 1.147451).  Saving model ...\n",
      "Epoch 47, Loss: 1.1478660249710082\n",
      "Epoch 48, Loss: 1.1476181002044679\n",
      "Epoch 49, Loss: 1.1476162944412232\n",
      "Epoch 50, Loss: 1.147675677986145\n",
      "Epoch 51, Loss: 1.147435619354248\n",
      "Validation loss decreased (1.147436 --> 1.147436).  Saving model ...\n",
      "Epoch 52, Loss: 1.147368867073059\n",
      "Epoch 00052: reducing learning rate of group 0 to 2.5000e-04.\n",
      "Validation loss decreased (1.147369 --> 1.147369).  Saving model ...\n",
      "Epoch 53, Loss: 1.1473927493286133\n",
      "Epoch 54, Loss: 1.147478647880554\n",
      "Epoch 55, Loss: 1.1473028526687623\n",
      "Validation loss decreased (1.147303 --> 1.147303).  Saving model ...\n",
      "Epoch 56, Loss: 1.1472312588119506\n",
      "Validation loss decreased (1.147231 --> 1.147231).  Saving model ...\n",
      "Epoch 57, Loss: 1.1469023015975952\n",
      "Validation loss decreased (1.146902 --> 1.146902).  Saving model ...\n",
      "Epoch 58, Loss: 1.1468704803466796\n",
      "Validation loss decreased (1.146870 --> 1.146870).  Saving model ...\n",
      "Epoch 59, Loss: 1.1475542771530152\n",
      "Epoch 60, Loss: 1.1470934147644043\n",
      "Epoch 61, Loss: 1.1478471992111206\n",
      "Epoch 62, Loss: 1.1472211840820312\n",
      "Epoch 63, Loss: 1.1470861077308654\n",
      "Epoch 00063: reducing learning rate of group 0 to 1.2500e-04.\n",
      "Epoch 64, Loss: 1.1469636339950562\n",
      "Epoch 65, Loss: 1.1471230283737182\n",
      "Epoch 66, Loss: 1.1468672491073608\n",
      "Validation loss decreased (1.146867 --> 1.146867).  Saving model ...\n",
      "Epoch 67, Loss: 1.1469072449302673\n",
      "Epoch 68, Loss: 1.1467003159332276\n",
      "Validation loss decreased (1.146700 --> 1.146700).  Saving model ...\n",
      "Epoch 69, Loss: 1.1469989919662475\n",
      "Epoch 70, Loss: 1.1472222576141358\n",
      "Epoch 71, Loss: 1.1468152836227417\n",
      "Epoch 72, Loss: 1.1470890021896363\n",
      "Epoch 73, Loss: 1.1469570489501952\n",
      "Epoch 74, Loss: 1.1471259492301942\n",
      "Epoch 00074: reducing learning rate of group 0 to 6.2500e-05.\n",
      "Epoch 75, Loss: 1.1469545698928834\n",
      "Epoch 76, Loss: 1.147033036212921\n",
      "Epoch 77, Loss: 1.146936593437195\n",
      "Epoch 78, Loss: 1.1466167946624757\n",
      "Validation loss decreased (1.146617 --> 1.146617).  Saving model ...\n",
      "Epoch 79, Loss: 1.147088763885498\n",
      "Epoch 80, Loss: 1.1465871061325072\n",
      "Epoch 00080: reducing learning rate of group 0 to 3.1250e-05.\n",
      "Validation loss decreased (1.146587 --> 1.146587).  Saving model ...\n",
      "Epoch 81, Loss: 1.146544043006897\n",
      "Validation loss decreased (1.146544 --> 1.146544).  Saving model ...\n",
      "Epoch 82, Loss: 1.1466956024932862\n",
      "Epoch 83, Loss: 1.1469084061050414\n",
      "Epoch 84, Loss: 1.1464451858139038\n",
      "Validation loss decreased (1.146445 --> 1.146445).  Saving model ...\n",
      "Epoch 85, Loss: 1.1466762181091308\n",
      "Epoch 86, Loss: 1.1471406440353393\n",
      "Epoch 87, Loss: 1.1469119345092773\n",
      "Epoch 00087: reducing learning rate of group 0 to 1.5625e-05.\n",
      "Epoch 88, Loss: 1.1469089979934692\n",
      "Epoch 89, Loss: 1.146328649520874\n",
      "Validation loss decreased (1.146329 --> 1.146329).  Saving model ...\n",
      "Epoch 90, Loss: 1.1465275066757201\n",
      "Epoch 91, Loss: 1.1465536273765564\n",
      "Epoch 92, Loss: 1.1467228602600097\n",
      "Epoch 93, Loss: 1.14700575214386\n",
      "Epoch 94, Loss: 1.1464466324615479\n",
      "Epoch 95, Loss: 1.1470560553741456\n",
      "Epoch 00095: reducing learning rate of group 0 to 7.8125e-06.\n",
      "Epoch 96, Loss: 1.1466411335754394\n",
      "Epoch 97, Loss: 1.1468832877349853\n",
      "Epoch 98, Loss: 1.1468402541542053\n",
      "Epoch 99, Loss: 1.1464954917907715\n",
      "Early stopping\n"
     ]
    },
    {
     "data": {
      "text/plain": [
       "<All keys matched successfully>"
      ]
     },
     "execution_count": 7,
     "metadata": {},
     "output_type": "execute_result"
    }
   ],
   "source": [
    "import torch.optim as optim\n",
    "\n",
    "optimizer = torch.optim.Adam(model.parameters(), lr=0.001, weight_decay=1e-4)\n",
    "criterion = torch.nn.CrossEntropyLoss()\n",
    "scheduler = ReduceLROnPlateau(optimizer, mode='min', factor=0.5, patience=5, verbose=True)\n",
    "\n",
    "class EarlyStopping:\n",
    "    def __init__(self, patience=7, verbose=False):\n",
    "        self.patience = patience\n",
    "        self.verbose = verbose\n",
    "        self.counter = 0\n",
    "        self.best_loss = None\n",
    "        self.early_stop = False\n",
    "\n",
    "    def __call__(self, val_loss, model):\n",
    "        if self.best_loss is None:\n",
    "            self.best_loss = val_loss\n",
    "            self.save_checkpoint(val_loss, model)\n",
    "        elif val_loss > self.best_loss:\n",
    "            self.counter += 1\n",
    "            if self.counter >= self.patience:\n",
    "                self.early_stop = True\n",
    "        else:\n",
    "            self.best_loss = val_loss\n",
    "            self.save_checkpoint(val_loss, model)\n",
    "            self.counter = 0\n",
    "\n",
    "    def save_checkpoint(self, val_loss, model):\n",
    "        if self.verbose:\n",
    "            print(f'Validation loss decreased ({self.best_loss:.6f} --> {val_loss:.6f}).  Saving model ...')\n",
    "        torch.save(model.state_dict(), 'checkpoint.pt')\n",
    "\n",
    "# Training loop with early stopping\n",
    "epochs = 100\n",
    "early_stopping = EarlyStopping(patience=10, verbose=True)\n",
    "\n",
    "model.train()\n",
    "for epoch in range(epochs):\n",
    "    total_loss = 0\n",
    "    for data, labels in data_loader:\n",
    "        optimizer.zero_grad()\n",
    "        out = model(data)\n",
    "        loss = criterion(out, labels)\n",
    "        loss.backward()\n",
    "        optimizer.step()\n",
    "        total_loss += loss.item()\n",
    "    \n",
    "    val_loss = total_loss / len(data_loader)\n",
    "    print(f'Epoch {epoch + 1}, Loss: {val_loss}')\n",
    "    \n",
    "    scheduler.step(val_loss)\n",
    "    early_stopping(val_loss, model)\n",
    "    \n",
    "    if early_stopping.early_stop:\n",
    "        print(\"Early stopping\")\n",
    "        break\n",
    "\n",
    "# Load the best model\n",
    "model.load_state_dict(torch.load('checkpoint.pt'))"
   ]
  },
  {
   "cell_type": "code",
   "execution_count": 8,
   "id": "b794dda1",
   "metadata": {
    "execution": {
     "iopub.execute_input": "2024-06-11T09:56:32.822461Z",
     "iopub.status.busy": "2024-06-11T09:56:32.820796Z",
     "iopub.status.idle": "2024-06-11T09:57:12.216401Z",
     "shell.execute_reply": "2024-06-11T09:57:12.214518Z"
    },
    "papermill": {
     "duration": 39.439767,
     "end_time": "2024-06-11T09:57:12.238393",
     "exception": false,
     "start_time": "2024-06-11T09:56:32.798626",
     "status": "completed"
    },
    "tags": []
   },
   "outputs": [
    {
     "name": "stdout",
     "output_type": "stream",
     "text": [
      "Accuracy: 0.57068\n"
     ]
    }
   ],
   "source": [
    "def evaluate(model, data_loader):\n",
    "    model.eval()\n",
    "    correct = 0\n",
    "    with torch.no_grad():\n",
    "        for data, labels in data_loader:\n",
    "            out = model(data)\n",
    "            pred = out.argmax(dim=1)\n",
    "            correct += (pred == labels).sum().item()\n",
    "    accuracy = correct / len(data_loader.dataset)\n",
    "    return accuracy\n",
    "\n",
    "# Evaluate the model\n",
    "accuracy = evaluate(model, data_loader)\n",
    "print('Accuracy:', accuracy)"
   ]
  },
  {
   "cell_type": "code",
   "execution_count": 9,
   "id": "9dd09dca",
   "metadata": {
    "execution": {
     "iopub.execute_input": "2024-06-11T09:57:12.283272Z",
     "iopub.status.busy": "2024-06-11T09:57:12.282766Z",
     "iopub.status.idle": "2024-06-11T10:07:04.688075Z",
     "shell.execute_reply": "2024-06-11T10:07:04.686247Z"
    },
    "papermill": {
     "duration": 592.4505,
     "end_time": "2024-06-11T10:07:04.709824",
     "exception": false,
     "start_time": "2024-06-11T09:57:12.259324",
     "status": "completed"
    },
    "tags": []
   },
   "outputs": [
    {
     "name": "stdout",
     "output_type": "stream",
     "text": [
      "Saved predictions to test_predictions.csv\n"
     ]
    }
   ],
   "source": [
    "def make_predictions(model, test_data_loader):\n",
    "    model.eval()\n",
    "    predictions = []\n",
    "    with torch.no_grad():\n",
    "        for data in test_data_loader:\n",
    "            out = model(data)\n",
    "            probs = out[:, 1]  \n",
    "            predictions.extend(probs.cpu().numpy())\n",
    "    return predictions\n",
    "\n",
    "test_predictions = make_predictions(model, test_data_loader)\n",
    "\n",
    "test_df['binds'] = test_predictions\n",
    "\n",
    "output_df = test_df[['id', 'binds']]\n",
    "\n",
    "output_csv_path = 'test_predictions.csv'\n",
    "output_df.to_csv(output_csv_path, index=False)\n",
    "\n",
    "print(f'Saved predictions to {output_csv_path}')"
   ]
  },
  {
   "cell_type": "code",
   "execution_count": 10,
   "id": "7a4b6aef",
   "metadata": {
    "execution": {
     "iopub.execute_input": "2024-06-11T10:07:04.750673Z",
     "iopub.status.busy": "2024-06-11T10:07:04.750266Z",
     "iopub.status.idle": "2024-06-11T10:07:05.594936Z",
     "shell.execute_reply": "2024-06-11T10:07:05.593040Z"
    },
    "papermill": {
     "duration": 0.869439,
     "end_time": "2024-06-11T10:07:05.598582",
     "exception": false,
     "start_time": "2024-06-11T10:07:04.729143",
     "status": "completed"
    },
    "tags": []
   },
   "outputs": [
    {
     "data": {
      "image/png": "[encoded data removed]",
      "text/plain": [
       "<Figure size 640x480 with 1 Axes>"
      ]
     },
     "metadata": {},
     "output_type": "display_data"
    },
    {
     "data": {
      "image/png": "[encoded data removed]",
      "text/plain": [
       "<Figure size 640x480 with 1 Axes>"
      ]
     },
     "metadata": {},
     "output_type": "display_data"
    }
   ],
   "source": [
    "def visualize_graph(data):\n",
    "    G = nx.Graph()\n",
    "    x = data.x.numpy()\n",
    "    edge_index = data.edge_index.numpy()\n",
    "    for i, feature in enumerate(x):\n",
    "        G.add_node(i, atom=feature[0], protein=feature[1])\n",
    "    for i in range(edge_index.shape[1]):\n",
    "        G.add_edge(edge_index[0, i], edge_index[1, i])\n",
    "    pos = nx.spring_layout(G)\n",
    "    node_labels = nx.get_node_attributes(G, 'atom')\n",
    "    nx.draw(G, pos, with_labels=True, labels=node_labels, node_color='lightblue', edge_color='gray')\n",
    "    plt.title('Graph Representation of a Molecule')\n",
    "    plt.show()\n",
    "\n",
    "sample_data = df['graph'].sample(1).values[0]\n",
    "visualize_graph(sample_data)\n",
    "\n",
    "sample_test_data = test_df['graph'].sample(1).values[0]\n",
    "visualize_graph(sample_test_data)"
   ]
  }
 ],
 "metadata": {
  "kaggle": {
   "accelerator": "none",
   "dataSources": [
    {
     "databundleVersionId": 8006601,
     "sourceId": 67356,
     "sourceType": "competition"
    }
   ],
   "dockerImageVersionId": 30732,
   "isGpuEnabled": false,
   "isInternetEnabled": true,
   "language": "python",
   "sourceType": "notebook"
  },
  "kernelspec": {
   "display_name": "Python 3",
   "language": "python",
   "name": "python3"
  },
  "language_info": {
   "codemirror_mode": {
    "name": "ipython",
    "version": 3
   },
   "file_extension": ".py",
   "mimetype": "text/x-python",
   "name": "python",
   "nbconvert_exporter": "python",
   "pygments_lexer": "ipython3",
   "version": "3.10.13"
  },
  "papermill": {
   "default_parameters": {},
   "duration": 11359.11171,
   "end_time": "2024-06-11T10:07:08.793464",
   "environment_variables": {},
   "exception": null,
   "input_path": "__notebook__.ipynb",
   "output_path": "__notebook__.ipynb",
   "parameters": {},
   "start_time": "2024-06-11T06:57:49.681754",
   "version": "2.5.0"
  },
  "widgets": {
   "application/vnd.jupyter.widget-state+json": {
    "state": {
     "13ac956161544b7bbcbfa872916eb45e": {
      "model_module": "@jupyter-widgets/controls",
      "model_module_version": "1.5.0",
      "model_name": "ProgressStyleModel",
      "state": {
       "_model_module": "@jupyter-widgets/controls",
       "_model_module_version": "1.5.0",
       "_model_name": "ProgressStyleModel",
       "_view_count": null,
       "_view_module": "@jupyter-widgets/base",
       "_view_module_version": "1.2.0",
       "_view_name": "StyleView",
       "bar_color": "black",
       "description_width": ""
      }
     },
     "7d6e3b0945914775abb7979fa63dee0d": {
      "model_module": "@jupyter-widgets/controls",
      "model_module_version": "1.5.0",
      "model_name": "FloatProgressModel",
      "state": {
       "_dom_classes": [],
       "_model_module": "@jupyter-widgets/controls",
       "_model_module_version": "1.5.0",
       "_model_name": "FloatProgressModel",
       "_view_count": null,
       "_view_module": "@jupyter-widgets/controls",
       "_view_module_version": "1.5.0",
       "_view_name": "ProgressView",
       "bar_style": "",
       "description": "",
       "description_tooltip": null,
       "layout": "IPY_MODEL_873eb9463b544bbf988f2277304e8d60",
       "max": 100.0,
       "min": 0.0,
       "orientation": "horizontal",
       "style": "IPY_MODEL_13ac956161544b7bbcbfa872916eb45e",
       "value": 100.0
      }
     },
     "873eb9463b544bbf988f2277304e8d60": {
      "model_module": "@jupyter-widgets/base",
      "model_module_version": "1.2.0",
      "model_name": "LayoutModel",
      "state": {
       "_model_module": "@jupyter-widgets/base",
       "_model_module_version": "1.2.0",
       "_model_name": "LayoutModel",
       "_view_count": null,
       "_view_module": "@jupyter-widgets/base",
       "_view_module_version": "1.2.0",
       "_view_name": "LayoutView",
       "align_content": null,
       "align_items": null,
       "align_self": null,
       "border": null,
       "bottom": null,
       "display": null,
       "flex": null,
       "flex_flow": null,
       "grid_area": null,
       "grid_auto_columns": null,
       "grid_auto_flow": null,
       "grid_auto_rows": null,
       "grid_column": null,
       "grid_gap": null,
       "grid_row": null,
       "grid_template_areas": null,
       "grid_template_columns": null,
       "grid_template_rows": null,
       "height": null,
       "justify_content": null,
       "justify_items": null,
       "left": null,
       "margin": null,
       "max_height": null,
       "max_width": null,
       "min_height": null,
       "min_width": null,
       "object_fit": null,
       "object_position": null,
       "order": null,
       "overflow": null,
       "overflow_x": null,
       "overflow_y": null,
       "padding": null,
       "right": null,
       "top": null,
       "visibility": null,
       "width": "auto"
      }
     }
    },
    "version_major": 2,
    "version_minor": 0
   }
  }
 },
 "nbformat": 4,
 "nbformat_minor": 5
}
