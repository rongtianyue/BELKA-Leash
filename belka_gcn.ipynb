{
 "cells": [
  {
   "cell_type": "code",
   "execution_count": 1,
   "id": "3ab61c23",
   "metadata": {
    "_cell_guid": "b1076dfc-b9ad-4769-8c92-a6c4dae69d19",
    "_uuid": "8f2839f25d086af736a60e9eeb907d3b93b6e0e5",
    "execution": {
     "iopub.execute_input": "2024-06-09T05:14:17.639379Z",
     "iopub.status.busy": "2024-06-09T05:14:17.638312Z",
     "iopub.status.idle": "2024-06-09T05:15:30.782878Z",
     "shell.execute_reply": "2024-06-09T05:15:30.781620Z"
    },
    "papermill": {
     "duration": 73.154115,
     "end_time": "2024-06-09T05:15:30.785438",
     "exception": false,
     "start_time": "2024-06-09T05:14:17.631323",
     "status": "completed"
    },
    "tags": []
   },
   "outputs": [
    {
     "name": "stdout",
     "output_type": "stream",
     "text": [
      "Collecting rdkit\r\n",
      "  Downloading rdkit-2023.9.6-cp310-cp310-manylinux_2_17_x86_64.manylinux2014_x86_64.whl.metadata (3.9 kB)\r\n",
      "Requirement already satisfied: numpy in /opt/conda/lib/python3.10/site-packages (from rdkit) (1.26.4)\r\n",
      "Requirement already satisfied: Pillow in /opt/conda/lib/python3.10/site-packages (from rdkit) (9.5.0)\r\n",
      "Downloading rdkit-2023.9.6-cp310-cp310-manylinux_2_17_x86_64.manylinux2014_x86_64.whl (34.9 MB)\r\n",
      "\u001b[2K   \u001b[90m━━━━━━━━━━━━━━━━━━━━━━━━━━━━━━━━━━━━━━━━\u001b[0m \u001b[32m34.9/34.9 MB\u001b[0m \u001b[31m41.7 MB/s\u001b[0m eta \u001b[36m0:00:00\u001b[0m\r\n",
      "\u001b[?25hInstalling collected packages: rdkit\r\n",
      "Successfully installed rdkit-2023.9.6\r\n",
      "Collecting duckdb\r\n",
      "  Downloading duckdb-1.0.0-cp310-cp310-manylinux_2_17_x86_64.manylinux2014_x86_64.whl.metadata (762 bytes)\r\n",
      "Downloading duckdb-1.0.0-cp310-cp310-manylinux_2_17_x86_64.manylinux2014_x86_64.whl (18.5 MB)\r\n",
      "\u001b[2K   \u001b[90m━━━━━━━━━━━━━━━━━━━━━━━━━━━━━━━━━━━━━━━━\u001b[0m \u001b[32m18.5/18.5 MB\u001b[0m \u001b[31m75.9 MB/s\u001b[0m eta \u001b[36m0:00:00\u001b[0m\r\n",
      "\u001b[?25hInstalling collected packages: duckdb\r\n",
      "Successfully installed duckdb-1.0.0\r\n",
      "Requirement already satisfied: pandas in /opt/conda/lib/python3.10/site-packages (2.2.2)\r\n",
      "Requirement already satisfied: networkx in /opt/conda/lib/python3.10/site-packages (3.2.1)\r\n",
      "Requirement already satisfied: numpy>=1.22.4 in /opt/conda/lib/python3.10/site-packages (from pandas) (1.26.4)\r\n",
      "Requirement already satisfied: python-dateutil>=2.8.2 in /opt/conda/lib/python3.10/site-packages (from pandas) (2.9.0.post0)\r\n",
      "Requirement already satisfied: pytz>=2020.1 in /opt/conda/lib/python3.10/site-packages (from pandas) (2023.3.post1)\r\n",
      "Requirement already satisfied: tzdata>=2022.7 in /opt/conda/lib/python3.10/site-packages (from pandas) (2023.4)\r\n",
      "Requirement already satisfied: six>=1.5 in /opt/conda/lib/python3.10/site-packages (from python-dateutil>=2.8.2->pandas) (1.16.0)\r\n",
      "Requirement already satisfied: torch in /opt/conda/lib/python3.10/site-packages (2.1.2+cpu)\r\n",
      "Requirement already satisfied: filelock in /opt/conda/lib/python3.10/site-packages (from torch) (3.13.1)\r\n",
      "Requirement already satisfied: typing-extensions in /opt/conda/lib/python3.10/site-packages (from torch) (4.9.0)\r\n",
      "Requirement already satisfied: sympy in /opt/conda/lib/python3.10/site-packages (from torch) (1.12.1)\r\n",
      "Requirement already satisfied: networkx in /opt/conda/lib/python3.10/site-packages (from torch) (3.2.1)\r\n",
      "Requirement already satisfied: jinja2 in /opt/conda/lib/python3.10/site-packages (from torch) (3.1.2)\r\n",
      "Requirement already satisfied: fsspec in /opt/conda/lib/python3.10/site-packages (from torch) (2024.3.1)\r\n",
      "Requirement already satisfied: MarkupSafe>=2.0 in /opt/conda/lib/python3.10/site-packages (from jinja2->torch) (2.1.3)\r\n",
      "Requirement already satisfied: mpmath<1.4.0,>=1.1.0 in /opt/conda/lib/python3.10/site-packages (from sympy->torch) (1.3.0)\r\n",
      "Collecting torch-geometric\r\n",
      "  Downloading torch_geometric-2.5.3-py3-none-any.whl.metadata (64 kB)\r\n",
      "\u001b[2K     \u001b[90m━━━━━━━━━━━━━━━━━━━━━━━━━━━━━━━━━━━━━━━━\u001b[0m \u001b[32m64.2/64.2 kB\u001b[0m \u001b[31m1.5 MB/s\u001b[0m eta \u001b[36m0:00:00\u001b[0m\r\n",
      "\u001b[?25hRequirement already satisfied: tqdm in /opt/conda/lib/python3.10/site-packages (from torch-geometric) (4.66.4)\r\n",
      "Requirement already satisfied: numpy in /opt/conda/lib/python3.10/site-packages (from torch-geometric) (1.26.4)\r\n",
      "Requirement already satisfied: scipy in /opt/conda/lib/python3.10/site-packages (from torch-geometric) (1.11.4)\r\n",
      "Requirement already satisfied: fsspec in /opt/conda/lib/python3.10/site-packages (from torch-geometric) (2024.3.1)\r\n",
      "Requirement already satisfied: jinja2 in /opt/conda/lib/python3.10/site-packages (from torch-geometric) (3.1.2)\r\n",
      "Requirement already satisfied: aiohttp in /opt/conda/lib/python3.10/site-packages (from torch-geometric) (3.9.1)\r\n",
      "Requirement already satisfied: requests in /opt/conda/lib/python3.10/site-packages (from torch-geometric) (2.32.3)\r\n",
      "Requirement already satisfied: pyparsing in /opt/conda/lib/python3.10/site-packages (from torch-geometric) (3.1.1)\r\n",
      "Requirement already satisfied: scikit-learn in /opt/conda/lib/python3.10/site-packages (from torch-geometric) (1.2.2)\r\n",
      "Requirement already satisfied: psutil>=5.8.0 in /opt/conda/lib/python3.10/site-packages (from torch-geometric) (5.9.3)\r\n",
      "Requirement already satisfied: attrs>=17.3.0 in /opt/conda/lib/python3.10/site-packages (from aiohttp->torch-geometric) (23.2.0)\r\n",
      "Requirement already satisfied: multidict<7.0,>=4.5 in /opt/conda/lib/python3.10/site-packages (from aiohttp->torch-geometric) (6.0.4)\r\n",
      "Requirement already satisfied: yarl<2.0,>=1.0 in /opt/conda/lib/python3.10/site-packages (from aiohttp->torch-geometric) (1.9.3)\r\n",
      "Requirement already satisfied: frozenlist>=1.1.1 in /opt/conda/lib/python3.10/site-packages (from aiohttp->torch-geometric) (1.4.1)\r\n",
      "Requirement already satisfied: aiosignal>=1.1.2 in /opt/conda/lib/python3.10/site-packages (from aiohttp->torch-geometric) (1.3.1)\r\n",
      "Requirement already satisfied: async-timeout<5.0,>=4.0 in /opt/conda/lib/python3.10/site-packages (from aiohttp->torch-geometric) (4.0.3)\r\n",
      "Requirement already satisfied: MarkupSafe>=2.0 in /opt/conda/lib/python3.10/site-packages (from jinja2->torch-geometric) (2.1.3)\r\n",
      "Requirement already satisfied: charset-normalizer<4,>=2 in /opt/conda/lib/python3.10/site-packages (from requests->torch-geometric) (3.3.2)\r\n",
      "Requirement already satisfied: idna<4,>=2.5 in /opt/conda/lib/python3.10/site-packages (from requests->torch-geometric) (3.6)\r\n",
      "Requirement already satisfied: urllib3<3,>=1.21.1 in /opt/conda/lib/python3.10/site-packages (from requests->torch-geometric) (1.26.18)\r\n",
      "Requirement already satisfied: certifi>=2017.4.17 in /opt/conda/lib/python3.10/site-packages (from requests->torch-geometric) (2024.2.2)\r\n",
      "Requirement already satisfied: joblib>=1.1.1 in /opt/conda/lib/python3.10/site-packages (from scikit-learn->torch-geometric) (1.4.2)\r\n",
      "Requirement already satisfied: threadpoolctl>=2.0.0 in /opt/conda/lib/python3.10/site-packages (from scikit-learn->torch-geometric) (3.2.0)\r\n",
      "Downloading torch_geometric-2.5.3-py3-none-any.whl (1.1 MB)\r\n",
      "\u001b[2K   \u001b[90m━━━━━━━━━━━━━━━━━━━━━━━━━━━━━━━━━━━━━━━━\u001b[0m \u001b[32m1.1/1.1 MB\u001b[0m \u001b[31m15.1 MB/s\u001b[0m eta \u001b[36m0:00:00\u001b[0m\r\n",
      "\u001b[?25hInstalling collected packages: torch-geometric\r\n",
      "Successfully installed torch-geometric-2.5.3\r\n",
      "/kaggle/input/leash-BELKA/sample_submission.csv\n",
      "/kaggle/input/leash-BELKA/train.parquet\n",
      "/kaggle/input/leash-BELKA/test.parquet\n",
      "/kaggle/input/leash-BELKA/train.csv\n",
      "/kaggle/input/leash-BELKA/test.csv\n"
     ]
    }
   ],
   "source": [
    "!pip install rdkit\n",
    "!pip install duckdb\n",
    "!pip install pandas networkx\n",
    "!pip install torch\n",
    "!pip install torch-geometric\n",
    "\n",
    "# This Python 3 environment comes with many helpful analytics libraries installed\n",
    "# It is defined by the kaggle/python Docker image: https://github.com/kaggle/docker-python\n",
    "# For example, here's several helpful packages to load\n",
    "\n",
    "import numpy as np # linear algebra\n",
    "import pandas as pd # data processing, CSV file I/O (e.g. pd.read_csv)\n",
    "import duckdb\n",
    "from torch.utils.data import Dataset\n",
    "\n",
    "# Input data files are available in the read-only \"../input/\" directory\n",
    "# For example, running this (by clicking run or pressing Shift+Enter) will list all files under the input directory\n",
    "\n",
    "import os\n",
    "for dirname, _, filenames in os.walk('/kaggle/input'):\n",
    "    for filename in filenames:\n",
    "        print(os.path.join(dirname, filename))\n",
    "\n",
    "# You can write up to 20GB to the current directory (/kaggle/working/) that gets preserved as output when you create a version using \"Save & Run All\" \n",
    "# You can also write temporary files to /kaggle/temp/, but they won't be saved outside of the current session"
   ]
  },
  {
   "cell_type": "code",
   "execution_count": 2,
   "id": "87d0179a",
   "metadata": {
    "execution": {
     "iopub.execute_input": "2024-06-09T05:15:30.801508Z",
     "iopub.status.busy": "2024-06-09T05:15:30.800914Z",
     "iopub.status.idle": "2024-06-09T05:16:26.584904Z",
     "shell.execute_reply": "2024-06-09T05:16:26.583336Z"
    },
    "papermill": {
     "duration": 55.795157,
     "end_time": "2024-06-09T05:16:26.587699",
     "exception": false,
     "start_time": "2024-06-09T05:15:30.792542",
     "status": "completed"
    },
    "tags": []
   },
   "outputs": [
    {
     "data": {
      "application/vnd.jupyter.widget-view+json": {
       "model_id": "c179cb5b08a34d7889ad5afd04a1d3a1",
       "version_major": 2,
       "version_minor": 0
      },
      "text/plain": [
       "FloatProgress(value=0.0, layout=Layout(width='auto'), style=ProgressStyle(bar_color='black'))"
      ]
     },
     "metadata": {},
     "output_type": "display_data"
    }
   ],
   "source": [
    "train_path = '/kaggle/input/leash-BELKA/train.parquet'\n",
    "test_path = '/kaggle/input/leash-BELKA/test.parquet'\n",
    "\n",
    "con = duckdb.connect()\n",
    "\n",
    "df = con.query(f\"\"\"(SELECT *\n",
    "                        FROM parquet_scan('{train_path}')\n",
    "                        WHERE binds = 0\n",
    "                        ORDER BY random()\n",
    "                        LIMIT 30000)\n",
    "                        UNION ALL\n",
    "                        (SELECT *\n",
    "                        FROM parquet_scan('{train_path}')\n",
    "                        WHERE binds = 1\n",
    "                        ORDER BY random()\n",
    "                        LIMIT 30000)\"\"\").df()\n",
    "\n",
    "con.close()\n",
    "\n",
    "df = df.drop(['buildingblock1_smiles', 'buildingblock2_smiles', 'buildingblock3_smiles'], axis=1)"
   ]
  },
  {
   "cell_type": "code",
   "execution_count": 3,
   "id": "62a64948",
   "metadata": {
    "execution": {
     "iopub.execute_input": "2024-06-09T05:16:26.604655Z",
     "iopub.status.busy": "2024-06-09T05:16:26.604053Z",
     "iopub.status.idle": "2024-06-09T05:16:26.631257Z",
     "shell.execute_reply": "2024-06-09T05:16:26.630024Z"
    },
    "papermill": {
     "duration": 0.038538,
     "end_time": "2024-06-09T05:16:26.633748",
     "exception": false,
     "start_time": "2024-06-09T05:16:26.595210",
     "status": "completed"
    },
    "tags": []
   },
   "outputs": [
    {
     "data": {
      "text/html": [
       "<div>\n",
       "<style scoped>\n",
       "    .dataframe tbody tr th:only-of-type {\n",
       "        vertical-align: middle;\n",
       "    }\n",
       "\n",
       "    .dataframe tbody tr th {\n",
       "        vertical-align: top;\n",
       "    }\n",
       "\n",
       "    .dataframe thead th {\n",
       "        text-align: right;\n",
       "    }\n",
       "</style>\n",
       "<table border=\"1\" class=\"dataframe\">\n",
       "  <thead>\n",
       "    <tr style=\"text-align: right;\">\n",
       "      <th></th>\n",
       "      <th>id</th>\n",
       "      <th>molecule_smiles</th>\n",
       "      <th>protein_name</th>\n",
       "      <th>binds</th>\n",
       "    </tr>\n",
       "  </thead>\n",
       "  <tbody>\n",
       "    <tr>\n",
       "      <th>13223</th>\n",
       "      <td>17519899</td>\n",
       "      <td>CCC#CCNc1nc(NCc2cscc2C(F)(F)F)nc(NC(CC(C)C)C(=...</td>\n",
       "      <td>HSA</td>\n",
       "      <td>0</td>\n",
       "    </tr>\n",
       "    <tr>\n",
       "      <th>15789</th>\n",
       "      <td>271062039</td>\n",
       "      <td>O=C(C[C@H](Cc1ccc(I)cc1)Nc1nc(NCC(=O)Nc2nccs2)...</td>\n",
       "      <td>BRD4</td>\n",
       "      <td>0</td>\n",
       "    </tr>\n",
       "    <tr>\n",
       "      <th>4474</th>\n",
       "      <td>11462109</td>\n",
       "      <td>CC(=O)c1ccc(C[C@H](Nc2nc(NCC3CCCC3)nc(Nc3nnc(C...</td>\n",
       "      <td>BRD4</td>\n",
       "      <td>0</td>\n",
       "    </tr>\n",
       "    <tr>\n",
       "      <th>44367</th>\n",
       "      <td>83514467</td>\n",
       "      <td>Cc1cnc(CNc2nc(NC[C@H]3CC[C@H](C(=O)N[Dy])CC3)n...</td>\n",
       "      <td>sEH</td>\n",
       "      <td>1</td>\n",
       "    </tr>\n",
       "    <tr>\n",
       "      <th>9611</th>\n",
       "      <td>138817925</td>\n",
       "      <td>N=C(CCCN)Nc1nc(Nc2cc(Cl)ncn2)nc(Nc2c(C(=O)N[Dy...</td>\n",
       "      <td>sEH</td>\n",
       "      <td>0</td>\n",
       "    </tr>\n",
       "    <tr>\n",
       "      <th>38681</th>\n",
       "      <td>82647728</td>\n",
       "      <td>Cc1ccc(C#N)cc1Nc1nc(NCC2CCC(C(=O)N[Dy])CC2)nc(...</td>\n",
       "      <td>sEH</td>\n",
       "      <td>1</td>\n",
       "    </tr>\n",
       "    <tr>\n",
       "      <th>20279</th>\n",
       "      <td>85546886</td>\n",
       "      <td>O=C(N[Dy])[C@H](Nc1nc(NCCc2ccno2)nc(NCC2CCOC3(...</td>\n",
       "      <td>sEH</td>\n",
       "      <td>0</td>\n",
       "    </tr>\n",
       "    <tr>\n",
       "      <th>29806</th>\n",
       "      <td>265117442</td>\n",
       "      <td>Cc1cc(Nc2nc(NCC3(N(C)C)CCSC3)nc(N[C@H](CC(=O)N...</td>\n",
       "      <td>sEH</td>\n",
       "      <td>0</td>\n",
       "    </tr>\n",
       "    <tr>\n",
       "      <th>27499</th>\n",
       "      <td>270016649</td>\n",
       "      <td>O=C(C[C@H](Cc1ccc(F)cc1)Nc1nc(Nc2ccc(F)nc2)nc(...</td>\n",
       "      <td>sEH</td>\n",
       "      <td>0</td>\n",
       "    </tr>\n",
       "    <tr>\n",
       "      <th>20466</th>\n",
       "      <td>222196735</td>\n",
       "      <td>COC(=O)c1cc(O)cc(Nc2nc(Nc3nc(-c4cccc([N+](=O)[...</td>\n",
       "      <td>HSA</td>\n",
       "      <td>0</td>\n",
       "    </tr>\n",
       "    <tr>\n",
       "      <th>32400</th>\n",
       "      <td>83165921</td>\n",
       "      <td>Cc1cc(Nc2nc(NC[C@H]3CC[C@H](C(=O)N[Dy])CC3)nc(...</td>\n",
       "      <td>sEH</td>\n",
       "      <td>1</td>\n",
       "    </tr>\n",
       "    <tr>\n",
       "      <th>34919</th>\n",
       "      <td>156767798</td>\n",
       "      <td>CCOC(=O)c1ncccc1Nc1nc(Nc2cccc(-n3cncn3)c2)nc(N...</td>\n",
       "      <td>sEH</td>\n",
       "      <td>1</td>\n",
       "    </tr>\n",
       "    <tr>\n",
       "      <th>48508</th>\n",
       "      <td>83075315</td>\n",
       "      <td>COc1cccc(F)c1CNc1nc(NCc2ccc(CN3CCCC3=O)cc2)nc(...</td>\n",
       "      <td>sEH</td>\n",
       "      <td>1</td>\n",
       "    </tr>\n",
       "    <tr>\n",
       "      <th>59663</th>\n",
       "      <td>151780384</td>\n",
       "      <td>CCc1cc(Nc2nc(Nc3nc(C)cc(C)n3)nc(Nc3c(F)cccc3C(...</td>\n",
       "      <td>HSA</td>\n",
       "      <td>1</td>\n",
       "    </tr>\n",
       "    <tr>\n",
       "      <th>15427</th>\n",
       "      <td>159422402</td>\n",
       "      <td>Cc1cc(Nc2nc(NCc3cncc(F)c3)nc(Nc3cc(Br)cc(C(=O)...</td>\n",
       "      <td>sEH</td>\n",
       "      <td>0</td>\n",
       "    </tr>\n",
       "    <tr>\n",
       "      <th>21153</th>\n",
       "      <td>59247215</td>\n",
       "      <td>Cc1ccnc(Nc2nc(NCc3ccccc3CN(C)Cc3ccco3)nc(Nc3c(...</td>\n",
       "      <td>sEH</td>\n",
       "      <td>0</td>\n",
       "    </tr>\n",
       "    <tr>\n",
       "      <th>37985</th>\n",
       "      <td>285373602</td>\n",
       "      <td>O=C(N[Dy])[C@@H]1Cc2ccc(O)cc2CN1c1nc(Nc2cnc(Cl...</td>\n",
       "      <td>BRD4</td>\n",
       "      <td>1</td>\n",
       "    </tr>\n",
       "    <tr>\n",
       "      <th>51753</th>\n",
       "      <td>88026960</td>\n",
       "      <td>O=C(N[Dy])[C@H](C/C=C/c1ccccc1)Nc1nc(Nc2cc(Cl)...</td>\n",
       "      <td>BRD4</td>\n",
       "      <td>1</td>\n",
       "    </tr>\n",
       "    <tr>\n",
       "      <th>30267</th>\n",
       "      <td>82169054</td>\n",
       "      <td>O=C(CNc1nc(NCCc2ncc(Br)s2)nc(NCC2CCC(C(=O)N[Dy...</td>\n",
       "      <td>sEH</td>\n",
       "      <td>1</td>\n",
       "    </tr>\n",
       "    <tr>\n",
       "      <th>39409</th>\n",
       "      <td>284716149</td>\n",
       "      <td>Cc1cc(Nc2nc(NCc3ccc[nH]c3=O)nc(N3Cc4cc(O)ccc4C...</td>\n",
       "      <td>BRD4</td>\n",
       "      <td>1</td>\n",
       "    </tr>\n",
       "  </tbody>\n",
       "</table>\n",
       "</div>"
      ],
      "text/plain": [
       "              id                                    molecule_smiles  \\\n",
       "13223   17519899  CCC#CCNc1nc(NCc2cscc2C(F)(F)F)nc(NC(CC(C)C)C(=...   \n",
       "15789  271062039  O=C(C[C@H](Cc1ccc(I)cc1)Nc1nc(NCC(=O)Nc2nccs2)...   \n",
       "4474    11462109  CC(=O)c1ccc(C[C@H](Nc2nc(NCC3CCCC3)nc(Nc3nnc(C...   \n",
       "44367   83514467  Cc1cnc(CNc2nc(NC[C@H]3CC[C@H](C(=O)N[Dy])CC3)n...   \n",
       "9611   138817925  N=C(CCCN)Nc1nc(Nc2cc(Cl)ncn2)nc(Nc2c(C(=O)N[Dy...   \n",
       "38681   82647728  Cc1ccc(C#N)cc1Nc1nc(NCC2CCC(C(=O)N[Dy])CC2)nc(...   \n",
       "20279   85546886  O=C(N[Dy])[C@H](Nc1nc(NCCc2ccno2)nc(NCC2CCOC3(...   \n",
       "29806  265117442  Cc1cc(Nc2nc(NCC3(N(C)C)CCSC3)nc(N[C@H](CC(=O)N...   \n",
       "27499  270016649  O=C(C[C@H](Cc1ccc(F)cc1)Nc1nc(Nc2ccc(F)nc2)nc(...   \n",
       "20466  222196735  COC(=O)c1cc(O)cc(Nc2nc(Nc3nc(-c4cccc([N+](=O)[...   \n",
       "32400   83165921  Cc1cc(Nc2nc(NC[C@H]3CC[C@H](C(=O)N[Dy])CC3)nc(...   \n",
       "34919  156767798  CCOC(=O)c1ncccc1Nc1nc(Nc2cccc(-n3cncn3)c2)nc(N...   \n",
       "48508   83075315  COc1cccc(F)c1CNc1nc(NCc2ccc(CN3CCCC3=O)cc2)nc(...   \n",
       "59663  151780384  CCc1cc(Nc2nc(Nc3nc(C)cc(C)n3)nc(Nc3c(F)cccc3C(...   \n",
       "15427  159422402  Cc1cc(Nc2nc(NCc3cncc(F)c3)nc(Nc3cc(Br)cc(C(=O)...   \n",
       "21153   59247215  Cc1ccnc(Nc2nc(NCc3ccccc3CN(C)Cc3ccco3)nc(Nc3c(...   \n",
       "37985  285373602  O=C(N[Dy])[C@@H]1Cc2ccc(O)cc2CN1c1nc(Nc2cnc(Cl...   \n",
       "51753   88026960  O=C(N[Dy])[C@H](C/C=C/c1ccccc1)Nc1nc(Nc2cc(Cl)...   \n",
       "30267   82169054  O=C(CNc1nc(NCCc2ncc(Br)s2)nc(NCC2CCC(C(=O)N[Dy...   \n",
       "39409  284716149  Cc1cc(Nc2nc(NCc3ccc[nH]c3=O)nc(N3Cc4cc(O)ccc4C...   \n",
       "\n",
       "      protein_name  binds  \n",
       "13223          HSA      0  \n",
       "15789         BRD4      0  \n",
       "4474          BRD4      0  \n",
       "44367          sEH      1  \n",
       "9611           sEH      0  \n",
       "38681          sEH      1  \n",
       "20279          sEH      0  \n",
       "29806          sEH      0  \n",
       "27499          sEH      0  \n",
       "20466          HSA      0  \n",
       "32400          sEH      1  \n",
       "34919          sEH      1  \n",
       "48508          sEH      1  \n",
       "59663          HSA      1  \n",
       "15427          sEH      0  \n",
       "21153          sEH      0  \n",
       "37985         BRD4      1  \n",
       "51753         BRD4      1  \n",
       "30267          sEH      1  \n",
       "39409         BRD4      1  "
      ]
     },
     "execution_count": 3,
     "metadata": {},
     "output_type": "execute_result"
    }
   ],
   "source": [
    "df.sample(n=20)\n",
    "# print(df)\n",
    "# rows, col= smiles_df.shape\n",
    "# print(f\"Number of rows: {rows}, Number of rows: {col}\")"
   ]
  },
  {
   "cell_type": "code",
   "execution_count": 4,
   "id": "e0855930",
   "metadata": {
    "execution": {
     "iopub.execute_input": "2024-06-09T05:16:26.650612Z",
     "iopub.status.busy": "2024-06-09T05:16:26.650204Z",
     "iopub.status.idle": "2024-06-09T05:16:30.849430Z",
     "shell.execute_reply": "2024-06-09T05:16:30.847950Z"
    },
    "papermill": {
     "duration": 4.211174,
     "end_time": "2024-06-09T05:16:30.852476",
     "exception": false,
     "start_time": "2024-06-09T05:16:26.641302",
     "status": "completed"
    },
    "tags": []
   },
   "outputs": [],
   "source": [
    "from rdkit import Chem\n",
    "from rdkit.Chem import AllChem\n",
    "import torch\n",
    "from torch_geometric.data import Data\n",
    "\n",
    "def smiles_to_graph(smiles, protein_encoding):\n",
    "    mol = Chem.MolFromSmiles(smiles)\n",
    "    if mol is None:\n",
    "        return None\n",
    "\n",
    "    AllChem.Compute2DCoords(mol)\n",
    "    num_atoms = mol.GetNumAtoms()\n",
    "\n",
    "    # Node features\n",
    "    atom_features = []\n",
    "    for atom in mol.GetAtoms():\n",
    "        atom_features.append(atom.GetAtomicNum())\n",
    "    atom_features = torch.tensor(atom_features, dtype=torch.float).view(-1, 1)\n",
    "\n",
    "    # Edge indices\n",
    "    edge_indices = []\n",
    "    for bond in mol.GetBonds():\n",
    "        i = bond.GetBeginAtomIdx()\n",
    "        j = bond.GetEndAtomIdx()\n",
    "        edge_indices.append((i, j))\n",
    "        edge_indices.append((j, i))\n",
    "    edge_indices = torch.tensor(edge_indices, dtype=torch.long).t().contiguous()\n",
    "\n",
    "    # Protein encoding\n",
    "    protein_features = torch.tensor(protein_encoding, dtype=torch.float)\n",
    "\n",
    "    return Data(x=atom_features, edge_index=edge_indices, protein=protein_features)"
   ]
  },
  {
   "cell_type": "code",
   "execution_count": 5,
   "id": "e4e86b0f",
   "metadata": {
    "execution": {
     "iopub.execute_input": "2024-06-09T05:16:30.870004Z",
     "iopub.status.busy": "2024-06-09T05:16:30.869354Z",
     "iopub.status.idle": "2024-06-09T05:16:31.808929Z",
     "shell.execute_reply": "2024-06-09T05:16:31.807709Z"
    },
    "papermill": {
     "duration": 0.951315,
     "end_time": "2024-06-09T05:16:31.811569",
     "exception": false,
     "start_time": "2024-06-09T05:16:30.860254",
     "status": "completed"
    },
    "tags": []
   },
   "outputs": [],
   "source": [
    "from sklearn.preprocessing import OneHotEncoder\n",
    "\n",
    "encoder = OneHotEncoder(sparse_output=False)\n",
    "protein_encoded = encoder.fit_transform(df[['protein_name']])\n",
    "df['protein_encoded'] = list(protein_encoded)"
   ]
  },
  {
   "cell_type": "code",
   "execution_count": 6,
   "id": "97973ce1",
   "metadata": {
    "execution": {
     "iopub.execute_input": "2024-06-09T05:16:31.831196Z",
     "iopub.status.busy": "2024-06-09T05:16:31.830714Z",
     "iopub.status.idle": "2024-06-09T05:18:48.628633Z",
     "shell.execute_reply": "2024-06-09T05:18:48.627305Z"
    },
    "papermill": {
     "duration": 136.810678,
     "end_time": "2024-06-09T05:18:48.631844",
     "exception": false,
     "start_time": "2024-06-09T05:16:31.821166",
     "status": "completed"
    },
    "tags": []
   },
   "outputs": [],
   "source": [
    "graph_data_list = []\n",
    "for index, row in df.iterrows():\n",
    "    graph = smiles_to_graph(row['molecule_smiles'], row['protein_encoded'])\n",
    "    if graph is not None:\n",
    "        graph.y = torch.tensor([row['binds']], dtype=torch.float)\n",
    "        graph_data_list.append(graph)"
   ]
  },
  {
   "cell_type": "code",
   "execution_count": 7,
   "id": "f89916b1",
   "metadata": {
    "execution": {
     "iopub.execute_input": "2024-06-09T05:18:48.648820Z",
     "iopub.status.busy": "2024-06-09T05:18:48.648422Z",
     "iopub.status.idle": "2024-06-09T05:18:52.024493Z",
     "shell.execute_reply": "2024-06-09T05:18:52.023318Z"
    },
    "papermill": {
     "duration": 3.388166,
     "end_time": "2024-06-09T05:18:52.027752",
     "exception": false,
     "start_time": "2024-06-09T05:18:48.639586",
     "status": "completed"
    },
    "tags": []
   },
   "outputs": [],
   "source": [
    "def normalize_features(features):\n",
    "    mean = features.mean(dim=0, keepdim=True)\n",
    "    std = features.std(dim=0, keepdim=True)\n",
    "    return (features - mean) / (std + 1e-6)\n",
    "\n",
    "for data in graph_data_list:\n",
    "    data.x = normalize_features(data.x)"
   ]
  },
  {
   "cell_type": "code",
   "execution_count": 8,
   "id": "e64ffd65",
   "metadata": {
    "execution": {
     "iopub.execute_input": "2024-06-09T05:18:52.125254Z",
     "iopub.status.busy": "2024-06-09T05:18:52.124792Z",
     "iopub.status.idle": "2024-06-09T05:18:52.135223Z",
     "shell.execute_reply": "2024-06-09T05:18:52.133963Z"
    },
    "papermill": {
     "duration": 0.097076,
     "end_time": "2024-06-09T05:18:52.137606",
     "exception": false,
     "start_time": "2024-06-09T05:18:52.040530",
     "status": "completed"
    },
    "tags": []
   },
   "outputs": [],
   "source": [
    "from torch.utils.data import Dataset\n",
    "from torch_geometric.loader import DataLoader\n",
    "\n",
    "class MoleculeDataset(Dataset):\n",
    "    def __init__(self, data_list):\n",
    "        self.data_list = data_list\n",
    "\n",
    "    def __len__(self):\n",
    "        return len(self.data_list)\n",
    "\n",
    "    def __getitem__(self, idx):\n",
    "        return self.data_list[idx]\n",
    "\n",
    "dataset = MoleculeDataset(graph_data_list)\n",
    "loader = DataLoader(dataset, batch_size=32, shuffle=True)"
   ]
  },
  {
   "cell_type": "markdown",
   "id": "382592c6",
   "metadata": {
    "papermill": {
     "duration": 0.008168,
     "end_time": "2024-06-09T05:18:52.153231",
     "exception": false,
     "start_time": "2024-06-09T05:18:52.145063",
     "status": "completed"
    },
    "tags": []
   },
   "source": []
  },
  {
   "cell_type": "code",
   "execution_count": 9,
   "id": "7d3fa22d",
   "metadata": {
    "execution": {
     "iopub.execute_input": "2024-06-09T05:18:52.170537Z",
     "iopub.status.busy": "2024-06-09T05:18:52.169574Z",
     "iopub.status.idle": "2024-06-09T05:18:52.286053Z",
     "shell.execute_reply": "2024-06-09T05:18:52.284839Z"
    },
    "papermill": {
     "duration": 0.128659,
     "end_time": "2024-06-09T05:18:52.289302",
     "exception": false,
     "start_time": "2024-06-09T05:18:52.160643",
     "status": "completed"
    },
    "tags": []
   },
   "outputs": [],
   "source": [
    "import torch.nn.functional as F\n",
    "from torch_geometric.nn import GCNConv, global_mean_pool\n",
    "\n",
    "class GCNWithProtein(torch.nn.Module):\n",
    "    def __init__(self, protein_dim):\n",
    "        super(GCNWithProtein, self).__init__()\n",
    "        self.conv1 = GCNConv(1, 128)\n",
    "        self.conv2 = GCNConv(128, 128)\n",
    "        self.conv3 = GCNConv(128, 128)\n",
    "        self.fc1 = torch.nn.Linear(128 + protein_dim, 256)\n",
    "        self.fc2 = torch.nn.Linear(256, 1)\n",
    "        self.dropout = torch.nn.Dropout(p=0.5)\n",
    "\n",
    "    def forward(self, data):\n",
    "        x, edge_index, batch = data.x, data.edge_index, data.batch\n",
    "        protein = data.protein\n",
    "\n",
    "        x = self.conv1(x, edge_index)\n",
    "        x = F.relu(x)\n",
    "        x = self.conv2(x, edge_index)\n",
    "        x = F.relu(x)\n",
    "        x = self.conv3(x, edge_index)\n",
    "        x = F.relu(x)\n",
    "        x = global_mean_pool(x, batch)\n",
    "\n",
    "        protein = protein.view(batch.max().item() + 1, -1)\n",
    "\n",
    "        x = torch.cat([x, protein], dim=1)\n",
    "        x = F.relu(self.fc1(x))\n",
    "        x = self.dropout(x)\n",
    "        x = self.fc2(x)\n",
    "        return x\n",
    "\n",
    "# Get the protein dimension from one-hot encoding\n",
    "protein_dim = len(encoder.categories_[0])\n",
    "model = GCNWithProtein(protein_dim)"
   ]
  },
  {
   "cell_type": "code",
   "execution_count": 10,
   "id": "958e6824",
   "metadata": {
    "execution": {
     "iopub.execute_input": "2024-06-09T05:18:52.315221Z",
     "iopub.status.busy": "2024-06-09T05:18:52.314260Z",
     "iopub.status.idle": "2024-06-09T07:12:29.388730Z",
     "shell.execute_reply": "2024-06-09T07:12:29.387352Z"
    },
    "papermill": {
     "duration": 6817.090515,
     "end_time": "2024-06-09T07:12:29.391745",
     "exception": false,
     "start_time": "2024-06-09T05:18:52.301230",
     "status": "completed"
    },
    "tags": []
   },
   "outputs": [],
   "source": [
    "import torch.optim as optim\n",
    "\n",
    "optimizer = optim.Adam(model.parameters(), lr=0.001)\n",
    "criterion = torch.nn.BCEWithLogitsLoss()\n",
    "\n",
    "def train():\n",
    "    model.train()\n",
    "    for data in loader:\n",
    "        optimizer.zero_grad()\n",
    "        output = model(data)\n",
    "        loss = criterion(output, data.y.view(-1, 1))\n",
    "        loss.backward()\n",
    "        optimizer.step()\n",
    "\n",
    "for epoch in range(200):  \n",
    "    train()"
   ]
  },
  {
   "cell_type": "code",
   "execution_count": 11,
   "id": "7342e557",
   "metadata": {
    "execution": {
     "iopub.execute_input": "2024-06-09T07:12:29.409943Z",
     "iopub.status.busy": "2024-06-09T07:12:29.409136Z",
     "iopub.status.idle": "2024-06-09T07:12:29.443596Z",
     "shell.execute_reply": "2024-06-09T07:12:29.441725Z"
    },
    "papermill": {
     "duration": 0.045821,
     "end_time": "2024-06-09T07:12:29.446037",
     "exception": false,
     "start_time": "2024-06-09T07:12:29.400216",
     "status": "completed"
    },
    "tags": []
   },
   "outputs": [
    {
     "name": "stdout",
     "output_type": "stream",
     "text": [
      "SMILES: C#CCCC[C@H](Nc1nc(Nc2ccc(C=C)cc2)nc(Nc2ccc(C=C)cc2)n1)C(=O)N[Dy], Protein: BRD4, Predicted Binding Affinity: 1.1274386549494674e-17\n",
      "SMILES: C#CCCC[C@H](Nc1nc(Nc2ccc(C=C)cc2)nc(Nc2ccc(C=C)cc2)n1)C(=O)N[Dy], Protein: sEH, Predicted Binding Affinity: 1.2421644435118806e-20\n",
      "SMILES: C#CCCC[C@H](Nc1nc(Nc2ccc(C=C)cc2)nc(Nc2ncnc3c2ncn3CC(C)O)n1)C(=O)N[Dy], Protein: BRD4, Predicted Binding Affinity: 1.168211023237302e-19\n"
     ]
    }
   ],
   "source": [
    "# Predict on new data\n",
    "new_smiles = ['C#CCCC[C@H](Nc1nc(Nc2ccc(C=C)cc2)nc(Nc2ccc(C=C)cc2)n1)C(=O)N[Dy]', 'C#CCCC[C@H](Nc1nc(Nc2ccc(C=C)cc2)nc(Nc2ccc(C=C)cc2)n1)C(=O)N[Dy]', 'C#CCCC[C@H](Nc1nc(Nc2ccc(C=C)cc2)nc(Nc2ncnc3c2ncn3CC(C)O)n1)C(=O)N[Dy]']\n",
    "new_proteins = ['BRD4', 'sEH', 'BRD4']\n",
    "new_protein_df = pd.DataFrame(new_proteins, columns=['protein_name'])\n",
    "new_protein_encoded = encoder.transform(new_protein_df)\n",
    "new_graph_data_list = []\n",
    "\n",
    "for smiles, protein_encoding in zip(new_smiles, new_protein_encoded):\n",
    "    try:\n",
    "        graph = smiles_to_graph(smiles, protein_encoding)\n",
    "        if graph is not None:\n",
    "            new_graph_data_list.append(graph)\n",
    "    except Exception as e:\n",
    "        print(f\"Error processing SMILES '{smiles}': {e}\")\n",
    "\n",
    "new_loader = DataLoader(new_graph_data_list, batch_size=1, shuffle=False)\n",
    "\n",
    "predictions = []\n",
    "with torch.no_grad():\n",
    "    for data in new_loader:\n",
    "        logits = model(data)\n",
    "        prediction = torch.sigmoid(logits).item()\n",
    "        predictions.append(prediction)\n",
    "\n",
    "# Print the predictions\n",
    "for smiles, protein, pred in zip(new_smiles, new_proteins, predictions):\n",
    "    print(f'SMILES: {smiles}, Protein: {protein}, Predicted Binding Affinity: {pred}')"
   ]
  },
  {
   "cell_type": "code",
   "execution_count": null,
   "id": "36036e54",
   "metadata": {
    "papermill": {
     "duration": 0.007272,
     "end_time": "2024-06-09T07:12:29.461006",
     "exception": false,
     "start_time": "2024-06-09T07:12:29.453734",
     "status": "completed"
    },
    "tags": []
   },
   "outputs": [],
   "source": []
  },
  {
   "cell_type": "code",
   "execution_count": null,
   "id": "690440cc",
   "metadata": {
    "papermill": {
     "duration": 0.007373,
     "end_time": "2024-06-09T07:12:29.476035",
     "exception": false,
     "start_time": "2024-06-09T07:12:29.468662",
     "status": "completed"
    },
    "tags": []
   },
   "outputs": [],
   "source": []
  }
 ],
 "metadata": {
  "kaggle": {
   "accelerator": "none",
   "dataSources": [
    {
     "databundleVersionId": 8006601,
     "sourceId": 67356,
     "sourceType": "competition"
    }
   ],
   "dockerImageVersionId": 30732,
   "isGpuEnabled": false,
   "isInternetEnabled": true,
   "language": "python",
   "sourceType": "notebook"
  },
  "kernelspec": {
   "display_name": "Python 3",
   "language": "python",
   "name": "python3"
  },
  "language_info": {
   "codemirror_mode": {
    "name": "ipython",
    "version": 3
   },
   "file_extension": ".py",
   "mimetype": "text/x-python",
   "name": "python",
   "nbconvert_exporter": "python",
   "pygments_lexer": "ipython3",
   "version": "3.10.13"
  },
  "papermill": {
   "default_parameters": {},
   "duration": 7096.89467,
   "end_time": "2024-06-09T07:12:31.622918",
   "environment_variables": {},
   "exception": null,
   "input_path": "__notebook__.ipynb",
   "output_path": "__notebook__.ipynb",
   "parameters": {},
   "start_time": "2024-06-09T05:14:14.728248",
   "version": "2.5.0"
  },
  "widgets": {
   "application/vnd.jupyter.widget-state+json": {
    "state": {
     "3311a9158ba34b13a09ec2f4b14cf782": {
      "model_module": "@jupyter-widgets/controls",
      "model_module_version": "1.5.0",
      "model_name": "ProgressStyleModel",
      "state": {
       "_model_module": "@jupyter-widgets/controls",
       "_model_module_version": "1.5.0",
       "_model_name": "ProgressStyleModel",
       "_view_count": null,
       "_view_module": "@jupyter-widgets/base",
       "_view_module_version": "1.2.0",
       "_view_name": "StyleView",
       "bar_color": "black",
       "description_width": ""
      }
     },
     "83dbf014afba48c8b9d5b4ced0c52b2c": {
      "model_module": "@jupyter-widgets/base",
      "model_module_version": "1.2.0",
      "model_name": "LayoutModel",
      "state": {
       "_model_module": "@jupyter-widgets/base",
       "_model_module_version": "1.2.0",
       "_model_name": "LayoutModel",
       "_view_count": null,
       "_view_module": "@jupyter-widgets/base",
       "_view_module_version": "1.2.0",
       "_view_name": "LayoutView",
       "align_content": null,
       "align_items": null,
       "align_self": null,
       "border": null,
       "bottom": null,
       "display": null,
       "flex": null,
       "flex_flow": null,
       "grid_area": null,
       "grid_auto_columns": null,
       "grid_auto_flow": null,
       "grid_auto_rows": null,
       "grid_column": null,
       "grid_gap": null,
       "grid_row": null,
       "grid_template_areas": null,
       "grid_template_columns": null,
       "grid_template_rows": null,
       "height": null,
       "justify_content": null,
       "justify_items": null,
       "left": null,
       "margin": null,
       "max_height": null,
       "max_width": null,
       "min_height": null,
       "min_width": null,
       "object_fit": null,
       "object_position": null,
       "order": null,
       "overflow": null,
       "overflow_x": null,
       "overflow_y": null,
       "padding": null,
       "right": null,
       "top": null,
       "visibility": null,
       "width": "auto"
      }
     },
     "c179cb5b08a34d7889ad5afd04a1d3a1": {
      "model_module": "@jupyter-widgets/controls",
      "model_module_version": "1.5.0",
      "model_name": "FloatProgressModel",
      "state": {
       "_dom_classes": [],
       "_model_module": "@jupyter-widgets/controls",
       "_model_module_version": "1.5.0",
       "_model_name": "FloatProgressModel",
       "_view_count": null,
       "_view_module": "@jupyter-widgets/controls",
       "_view_module_version": "1.5.0",
       "_view_name": "ProgressView",
       "bar_style": "",
       "description": "",
       "description_tooltip": null,
       "layout": "IPY_MODEL_83dbf014afba48c8b9d5b4ced0c52b2c",
       "max": 100.0,
       "min": 0.0,
       "orientation": "horizontal",
       "style": "IPY_MODEL_3311a9158ba34b13a09ec2f4b14cf782",
       "value": 100.0
      }
     }
    },
    "version_major": 2,
    "version_minor": 0
   }
  }
 },
 "nbformat": 4,
 "nbformat_minor": 5
}
