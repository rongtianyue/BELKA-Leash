{
 "cells": [
  {
   "cell_type": "code",
   "execution_count": 1,
   "id": "ed9a4677",
   "metadata": {
    "_cell_guid": "b1076dfc-b9ad-4769-8c92-a6c4dae69d19",
    "_uuid": "8f2839f25d086af736a60e9eeb907d3b93b6e0e5",
    "execution": {
     "iopub.execute_input": "2024-06-10T15:22:26.847486Z",
     "iopub.status.busy": "2024-06-10T15:22:26.846483Z",
     "iopub.status.idle": "2024-06-10T15:23:58.956874Z",
     "shell.execute_reply": "2024-06-10T15:23:58.955545Z"
    },
    "papermill": {
     "duration": 92.120542,
     "end_time": "2024-06-10T15:23:58.959761",
     "exception": false,
     "start_time": "2024-06-10T15:22:26.839219",
     "status": "completed"
    },
    "tags": []
   },
   "outputs": [
    {
     "name": "stdout",
     "output_type": "stream",
     "text": [
      "Collecting rdkit\r\n",
      "  Downloading rdkit-2023.9.6-cp310-cp310-manylinux_2_17_x86_64.manylinux2014_x86_64.whl.metadata (3.9 kB)\r\n",
      "Requirement already satisfied: numpy in /opt/conda/lib/python3.10/site-packages (from rdkit) (1.26.4)\r\n",
      "Requirement already satisfied: Pillow in /opt/conda/lib/python3.10/site-packages (from rdkit) (9.5.0)\r\n",
      "Downloading rdkit-2023.9.6-cp310-cp310-manylinux_2_17_x86_64.manylinux2014_x86_64.whl (34.9 MB)\r\n",
      "\u001b[2K   \u001b[90m━━━━━━━━━━━━━━━━━━━━━━━━━━━━━━━━━━━━━━━━\u001b[0m \u001b[32m34.9/34.9 MB\u001b[0m \u001b[31m39.4 MB/s\u001b[0m eta \u001b[36m0:00:00\u001b[0m\r\n",
      "\u001b[?25hInstalling collected packages: rdkit\r\n",
      "Successfully installed rdkit-2023.9.6\r\n",
      "Collecting duckdb\r\n",
      "  Downloading duckdb-1.0.0-cp310-cp310-manylinux_2_17_x86_64.manylinux2014_x86_64.whl.metadata (762 bytes)\r\n",
      "Downloading duckdb-1.0.0-cp310-cp310-manylinux_2_17_x86_64.manylinux2014_x86_64.whl (18.5 MB)\r\n",
      "\u001b[2K   \u001b[90m━━━━━━━━━━━━━━━━━━━━━━━━━━━━━━━━━━━━━━━━\u001b[0m \u001b[32m18.5/18.5 MB\u001b[0m \u001b[31m60.6 MB/s\u001b[0m eta \u001b[36m0:00:00\u001b[0m\r\n",
      "\u001b[?25hInstalling collected packages: duckdb\r\n",
      "Successfully installed duckdb-1.0.0\r\n",
      "Requirement already satisfied: pandas in /opt/conda/lib/python3.10/site-packages (2.2.2)\r\n",
      "Requirement already satisfied: networkx in /opt/conda/lib/python3.10/site-packages (3.2.1)\r\n",
      "Requirement already satisfied: numpy>=1.22.4 in /opt/conda/lib/python3.10/site-packages (from pandas) (1.26.4)\r\n",
      "Requirement already satisfied: python-dateutil>=2.8.2 in /opt/conda/lib/python3.10/site-packages (from pandas) (2.9.0.post0)\r\n",
      "Requirement already satisfied: pytz>=2020.1 in /opt/conda/lib/python3.10/site-packages (from pandas) (2023.3.post1)\r\n",
      "Requirement already satisfied: tzdata>=2022.7 in /opt/conda/lib/python3.10/site-packages (from pandas) (2023.4)\r\n",
      "Requirement already satisfied: six>=1.5 in /opt/conda/lib/python3.10/site-packages (from python-dateutil>=2.8.2->pandas) (1.16.0)\r\n",
      "Requirement already satisfied: torch in /opt/conda/lib/python3.10/site-packages (2.1.2+cpu)\r\n",
      "Requirement already satisfied: filelock in /opt/conda/lib/python3.10/site-packages (from torch) (3.13.1)\r\n",
      "Requirement already satisfied: typing-extensions in /opt/conda/lib/python3.10/site-packages (from torch) (4.9.0)\r\n",
      "Requirement already satisfied: sympy in /opt/conda/lib/python3.10/site-packages (from torch) (1.12.1)\r\n",
      "Requirement already satisfied: networkx in /opt/conda/lib/python3.10/site-packages (from torch) (3.2.1)\r\n",
      "Requirement already satisfied: jinja2 in /opt/conda/lib/python3.10/site-packages (from torch) (3.1.2)\r\n",
      "Requirement already satisfied: fsspec in /opt/conda/lib/python3.10/site-packages (from torch) (2024.3.1)\r\n",
      "Requirement already satisfied: MarkupSafe>=2.0 in /opt/conda/lib/python3.10/site-packages (from jinja2->torch) (2.1.3)\r\n",
      "Requirement already satisfied: mpmath<1.4.0,>=1.1.0 in /opt/conda/lib/python3.10/site-packages (from sympy->torch) (1.3.0)\r\n",
      "Collecting torch-geometric\r\n",
      "  Downloading torch_geometric-2.5.3-py3-none-any.whl.metadata (64 kB)\r\n",
      "\u001b[2K     \u001b[90m━━━━━━━━━━━━━━━━━━━━━━━━━━━━━━━━━━━━━━━━\u001b[0m \u001b[32m64.2/64.2 kB\u001b[0m \u001b[31m1.5 MB/s\u001b[0m eta \u001b[36m0:00:00\u001b[0m\r\n",
      "\u001b[?25hRequirement already satisfied: tqdm in /opt/conda/lib/python3.10/site-packages (from torch-geometric) (4.66.4)\r\n",
      "Requirement already satisfied: numpy in /opt/conda/lib/python3.10/site-packages (from torch-geometric) (1.26.4)\r\n",
      "Requirement already satisfied: scipy in /opt/conda/lib/python3.10/site-packages (from torch-geometric) (1.11.4)\r\n",
      "Requirement already satisfied: fsspec in /opt/conda/lib/python3.10/site-packages (from torch-geometric) (2024.3.1)\r\n",
      "Requirement already satisfied: jinja2 in /opt/conda/lib/python3.10/site-packages (from torch-geometric) (3.1.2)\r\n",
      "Requirement already satisfied: aiohttp in /opt/conda/lib/python3.10/site-packages (from torch-geometric) (3.9.1)\r\n",
      "Requirement already satisfied: requests in /opt/conda/lib/python3.10/site-packages (from torch-geometric) (2.32.3)\r\n",
      "Requirement already satisfied: pyparsing in /opt/conda/lib/python3.10/site-packages (from torch-geometric) (3.1.1)\r\n",
      "Requirement already satisfied: scikit-learn in /opt/conda/lib/python3.10/site-packages (from torch-geometric) (1.2.2)\r\n",
      "Requirement already satisfied: psutil>=5.8.0 in /opt/conda/lib/python3.10/site-packages (from torch-geometric) (5.9.3)\r\n",
      "Requirement already satisfied: attrs>=17.3.0 in /opt/conda/lib/python3.10/site-packages (from aiohttp->torch-geometric) (23.2.0)\r\n",
      "Requirement already satisfied: multidict<7.0,>=4.5 in /opt/conda/lib/python3.10/site-packages (from aiohttp->torch-geometric) (6.0.4)\r\n",
      "Requirement already satisfied: yarl<2.0,>=1.0 in /opt/conda/lib/python3.10/site-packages (from aiohttp->torch-geometric) (1.9.3)\r\n",
      "Requirement already satisfied: frozenlist>=1.1.1 in /opt/conda/lib/python3.10/site-packages (from aiohttp->torch-geometric) (1.4.1)\r\n",
      "Requirement already satisfied: aiosignal>=1.1.2 in /opt/conda/lib/python3.10/site-packages (from aiohttp->torch-geometric) (1.3.1)\r\n",
      "Requirement already satisfied: async-timeout<5.0,>=4.0 in /opt/conda/lib/python3.10/site-packages (from aiohttp->torch-geometric) (4.0.3)\r\n",
      "Requirement already satisfied: MarkupSafe>=2.0 in /opt/conda/lib/python3.10/site-packages (from jinja2->torch-geometric) (2.1.3)\r\n",
      "Requirement already satisfied: charset-normalizer<4,>=2 in /opt/conda/lib/python3.10/site-packages (from requests->torch-geometric) (3.3.2)\r\n",
      "Requirement already satisfied: idna<4,>=2.5 in /opt/conda/lib/python3.10/site-packages (from requests->torch-geometric) (3.6)\r\n",
      "Requirement already satisfied: urllib3<3,>=1.21.1 in /opt/conda/lib/python3.10/site-packages (from requests->torch-geometric) (1.26.18)\r\n",
      "Requirement already satisfied: certifi>=2017.4.17 in /opt/conda/lib/python3.10/site-packages (from requests->torch-geometric) (2024.2.2)\r\n",
      "Requirement already satisfied: joblib>=1.1.1 in /opt/conda/lib/python3.10/site-packages (from scikit-learn->torch-geometric) (1.4.2)\r\n",
      "Requirement already satisfied: threadpoolctl>=2.0.0 in /opt/conda/lib/python3.10/site-packages (from scikit-learn->torch-geometric) (3.2.0)\r\n",
      "Downloading torch_geometric-2.5.3-py3-none-any.whl (1.1 MB)\r\n",
      "\u001b[2K   \u001b[90m━━━━━━━━━━━━━━━━━━━━━━━━━━━━━━━━━━━━━━━━\u001b[0m \u001b[32m1.1/1.1 MB\u001b[0m \u001b[31m15.1 MB/s\u001b[0m eta \u001b[36m0:00:00\u001b[0m\r\n",
      "\u001b[?25hInstalling collected packages: torch-geometric\r\n",
      "Successfully installed torch-geometric-2.5.3\r\n",
      "/kaggle/input/leash-BELKA/sample_submission.csv\n",
      "/kaggle/input/leash-BELKA/train.parquet\n",
      "/kaggle/input/leash-BELKA/test.parquet\n",
      "/kaggle/input/leash-BELKA/train.csv\n",
      "/kaggle/input/leash-BELKA/test.csv\n"
     ]
    }
   ],
   "source": [
    "# Install necessary packages\n",
    "!pip install rdkit\n",
    "!pip install duckdb\n",
    "!pip install pandas networkx\n",
    "!pip install torch\n",
    "!pip install torch-geometric\n",
    "\n",
    "# Import libraries\n",
    "import numpy as np \n",
    "import pandas as pd \n",
    "import duckdb\n",
    "from torch.utils.data import Dataset\n",
    "from rdkit import Chem\n",
    "from rdkit.Chem import AllChem\n",
    "import torch\n",
    "from torch_geometric.data import Data\n",
    "from torch_geometric.loader import DataLoader\n",
    "from sklearn.preprocessing import LabelEncoder\n",
    "\n",
    "# Input data files are available in the read-only \"../input/\" directory\n",
    "# For example, running this (by clicking run or pressing Shift+Enter) will list all files under the input directory\n",
    "\n",
    "import os\n",
    "for dirname, _, filenames in os.walk('/kaggle/input'):\n",
    "    for filename in filenames:\n",
    "        print(os.path.join(dirname, filename))\n",
    "\n",
    "# You can write up to 20GB to the current directory (/kaggle/working/) that gets preserved as output when you create a version using \"Save & Run All\" \n",
    "# You can also write temporary files to /kaggle/temp/, but they won't be saved outside of the current session"
   ]
  },
  {
   "cell_type": "code",
   "execution_count": 2,
   "id": "b2dc8e60",
   "metadata": {
    "execution": {
     "iopub.execute_input": "2024-06-10T15:23:58.979057Z",
     "iopub.status.busy": "2024-06-10T15:23:58.978454Z",
     "iopub.status.idle": "2024-06-10T15:25:03.505675Z",
     "shell.execute_reply": "2024-06-10T15:25:03.504462Z"
    },
    "papermill": {
     "duration": 64.54761,
     "end_time": "2024-06-10T15:25:03.516166",
     "exception": false,
     "start_time": "2024-06-10T15:23:58.968556",
     "status": "completed"
    },
    "tags": []
   },
   "outputs": [
    {
     "data": {
      "application/vnd.jupyter.widget-view+json": {
       "model_id": "11f7897d0aa24b76a251e67abe6cbc10",
       "version_major": 2,
       "version_minor": 0
      },
      "text/plain": [
       "FloatProgress(value=0.0, layout=Layout(width='auto'), style=ProgressStyle(bar_color='black'))"
      ]
     },
     "metadata": {},
     "output_type": "display_data"
    },
    {
     "name": "stdout",
     "output_type": "stream",
     "text": [
      "          id                                    molecule_smiles protein_name\n",
      "0  295246830  C#CCCC[C@H](Nc1nc(Nc2ccc(C=C)cc2)nc(Nc2ccc(C=C...         BRD4\n",
      "1  295246831  C#CCCC[C@H](Nc1nc(Nc2ccc(C=C)cc2)nc(Nc2ccc(C=C...          HSA\n",
      "2  295246832  C#CCCC[C@H](Nc1nc(Nc2ccc(C=C)cc2)nc(Nc2ccc(C=C...          sEH\n",
      "3  295246833  C#CCCC[C@H](Nc1nc(Nc2ccc(C=C)cc2)nc(Nc2ncnc3c2...         BRD4\n",
      "4  295246834  C#CCCC[C@H](Nc1nc(Nc2ccc(C=C)cc2)nc(Nc2ncnc3c2...          HSA\n"
     ]
    }
   ],
   "source": [
    "train_path = '/kaggle/input/leash-BELKA/train.parquet'\n",
    "test_path = '/kaggle/input/leash-BELKA/test.csv'\n",
    "\n",
    "con = duckdb.connect()\n",
    "\n",
    "df = con.query(f\"\"\"(SELECT *\n",
    "                        FROM parquet_scan('{train_path}')\n",
    "                        WHERE binds = 0\n",
    "                        ORDER BY random()\n",
    "                        LIMIT 30000)\n",
    "                        UNION ALL\n",
    "                        (SELECT *\n",
    "                        FROM parquet_scan('{train_path}')\n",
    "                        WHERE binds = 1\n",
    "                        ORDER BY random()\n",
    "                        LIMIT 30000)\"\"\").df()\n",
    "\n",
    "con.close()\n",
    "\n",
    "df = df.drop(['buildingblock1_smiles', 'buildingblock2_smiles', 'buildingblock3_smiles'], axis=1)\n",
    "\n",
    "test_df = pd.read_csv(test_path)\n",
    "test_df = test_df.drop(['buildingblock1_smiles', 'buildingblock2_smiles', 'buildingblock3_smiles'], axis=1)\n",
    "print(test_df.head())"
   ]
  },
  {
   "cell_type": "code",
   "execution_count": 3,
   "id": "cb0c8f49",
   "metadata": {
    "execution": {
     "iopub.execute_input": "2024-06-10T15:25:03.535420Z",
     "iopub.status.busy": "2024-06-10T15:25:03.534973Z",
     "iopub.status.idle": "2024-06-10T15:25:03.540539Z",
     "shell.execute_reply": "2024-06-10T15:25:03.539157Z"
    },
    "papermill": {
     "duration": 0.018439,
     "end_time": "2024-06-10T15:25:03.543146",
     "exception": false,
     "start_time": "2024-06-10T15:25:03.524707",
     "status": "completed"
    },
    "tags": []
   },
   "outputs": [],
   "source": [
    "# pd.set_option('display.max_colwidth', None)\n",
    "# df.sample(n=10)"
   ]
  },
  {
   "cell_type": "code",
   "execution_count": 4,
   "id": "51d6208e",
   "metadata": {
    "execution": {
     "iopub.execute_input": "2024-06-10T15:25:03.562864Z",
     "iopub.status.busy": "2024-06-10T15:25:03.561878Z",
     "iopub.status.idle": "2024-06-10T16:06:44.238105Z",
     "shell.execute_reply": "2024-06-10T16:06:44.236819Z"
    },
    "papermill": {
     "duration": 2500.689483,
     "end_time": "2024-06-10T16:06:44.241330",
     "exception": false,
     "start_time": "2024-06-10T15:25:03.551847",
     "status": "completed"
    },
    "tags": []
   },
   "outputs": [],
   "source": [
    "# Encode protein names to numerical values\n",
    "protein_encoder = LabelEncoder()\n",
    "protein_encoder.fit(['HSA', 'BRD4', 'sEH'])\n",
    "\n",
    "# Function to convert SMILES and protein to graph\n",
    "def smiles_to_graph(smiles, protein):\n",
    "    mol = Chem.MolFromSmiles(smiles)\n",
    "    if mol is None:\n",
    "        return None\n",
    "\n",
    "    # Convert molecule to graph data structure\n",
    "    nodes = [atom.GetAtomicNum() for atom in mol.GetAtoms()]\n",
    "    edges = [(bond.GetBeginAtomIdx(), bond.GetEndAtomIdx()) for bond in mol.GetBonds()]\n",
    "    edge_index = torch.tensor(edges, dtype=torch.long).t().contiguous()\n",
    "    x = torch.tensor(nodes, dtype=torch.float).view(-1, 1)\n",
    "\n",
    "    # Encode protein as a feature\n",
    "    protein_encoded = protein_encoder.transform([protein])[0]\n",
    "    protein_feature = torch.tensor([protein_encoded], dtype=torch.float)\n",
    "\n",
    "    # Add protein feature to each node\n",
    "    protein_features = protein_feature.repeat(x.size(0), 1)\n",
    "    x = torch.cat([x, protein_features], dim=1)\n",
    "\n",
    "    return Data(x=x, edge_index=edge_index)\n",
    "\n",
    "# Apply the function to the training dataframe\n",
    "df['graph'] = df.apply(lambda row: smiles_to_graph(row['molecule_smiles'], row['protein_name']), axis=1)\n",
    "\n",
    "# Filter out invalid graphs in the training dataframe\n",
    "df = df[df['graph'].notnull()]\n",
    "\n",
    "# Apply the function to the test dataframe\n",
    "test_df['graph'] = test_df.apply(lambda row: smiles_to_graph(row['molecule_smiles'], row['protein_name']), axis=1)\n",
    "\n",
    "# Filter out invalid graphs in the test dataframe\n",
    "test_df = test_df[test_df['graph'].notnull()]"
   ]
  },
  {
   "cell_type": "code",
   "execution_count": 5,
   "id": "fa8f0804",
   "metadata": {
    "execution": {
     "iopub.execute_input": "2024-06-10T16:06:44.262738Z",
     "iopub.status.busy": "2024-06-10T16:06:44.262317Z",
     "iopub.status.idle": "2024-06-10T16:06:44.273947Z",
     "shell.execute_reply": "2024-06-10T16:06:44.272906Z"
    },
    "papermill": {
     "duration": 0.024933,
     "end_time": "2024-06-10T16:06:44.276385",
     "exception": false,
     "start_time": "2024-06-10T16:06:44.251452",
     "status": "completed"
    },
    "tags": []
   },
   "outputs": [],
   "source": [
    "# Custom Dataset Class\n",
    "class MoleculeDataset(Dataset):\n",
    "    def __init__(self, dataframe):\n",
    "        self.dataframe = dataframe\n",
    "\n",
    "    def __len__(self):\n",
    "        return len(self.dataframe)\n",
    "\n",
    "    def __getitem__(self, idx):\n",
    "        data = self.dataframe.iloc[idx]\n",
    "        graph = data['graph']\n",
    "        label = torch.tensor(data['binds'], dtype=torch.long)\n",
    "        return graph, label\n",
    "    \n",
    "class TestMoleculeDataset(Dataset):\n",
    "    def __init__(self, dataframe):\n",
    "        self.dataframe = dataframe\n",
    "\n",
    "    def __len__(self):\n",
    "        return len(self.dataframe)\n",
    "\n",
    "    def __getitem__(self, idx):\n",
    "        data = self.dataframe.iloc[idx]\n",
    "        graph = data['graph']\n",
    "        return graph\n",
    "\n",
    "# Create dataset and data loader\n",
    "dataset = MoleculeDataset(df)\n",
    "data_loader = DataLoader(dataset, batch_size=32, shuffle=True)\n",
    "\n",
    "test_dataset = TestMoleculeDataset(test_df)\n",
    "test_data_loader = DataLoader(test_dataset, batch_size=32, shuffle=False)"
   ]
  },
  {
   "cell_type": "code",
   "execution_count": 6,
   "id": "92be3385",
   "metadata": {
    "execution": {
     "iopub.execute_input": "2024-06-10T16:06:44.296089Z",
     "iopub.status.busy": "2024-06-10T16:06:44.295696Z",
     "iopub.status.idle": "2024-06-10T16:06:44.451937Z",
     "shell.execute_reply": "2024-06-10T16:06:44.450754Z"
    },
    "papermill": {
     "duration": 0.169227,
     "end_time": "2024-06-10T16:06:44.454754",
     "exception": false,
     "start_time": "2024-06-10T16:06:44.285527",
     "status": "completed"
    },
    "tags": []
   },
   "outputs": [],
   "source": [
    "import torch.nn.functional as F\n",
    "from torch_geometric.nn import GATConv, global_mean_pool\n",
    "\n",
    "class GAT(torch.nn.Module):\n",
    "    def __init__(self, input_dim, hidden_dim, output_dim, heads=2):\n",
    "        super(GAT, self).__init__()\n",
    "        self.conv1 = GATConv(input_dim, hidden_dim, heads=heads)\n",
    "        self.conv2 = GATConv(hidden_dim * heads, output_dim, heads=heads)\n",
    "        self.output_dim = output_dim  # Add output_dim as an attribute\n",
    "\n",
    "    def forward(self, data):\n",
    "        x, edge_index, batch = data.x, data.edge_index, data.batch\n",
    "        x = F.relu(self.conv1(x, edge_index))\n",
    "        x = F.dropout(x, training=self.training)\n",
    "        x = self.conv2(x, edge_index)\n",
    "        x = global_mean_pool(x, batch)  # Pooling to get graph-level representation\n",
    "        return F.log_softmax(x, dim=1)\n",
    "\n",
    "# Example model instantiation\n",
    "input_dim = 2  # 1 for atomic number + 1 for encoded protein feature\n",
    "hidden_dim = 8\n",
    "output_dim = 2  # Binary classification: bind (1) or not bind (0)\n",
    "model = GAT(input_dim=input_dim, hidden_dim=hidden_dim, output_dim=output_dim)"
   ]
  },
  {
   "cell_type": "code",
   "execution_count": 7,
   "id": "9a4e5a18",
   "metadata": {
    "execution": {
     "iopub.execute_input": "2024-06-10T16:06:44.474663Z",
     "iopub.status.busy": "2024-06-10T16:06:44.474163Z",
     "iopub.status.idle": "2024-06-10T16:15:07.624614Z",
     "shell.execute_reply": "2024-06-10T16:15:07.623356Z"
    },
    "papermill": {
     "duration": 503.174141,
     "end_time": "2024-06-10T16:15:07.637999",
     "exception": false,
     "start_time": "2024-06-10T16:06:44.463858",
     "status": "completed"
    },
    "tags": []
   },
   "outputs": [
    {
     "name": "stdout",
     "output_type": "stream",
     "text": [
      "Epoch 1, Loss: 0.6951921235720316\n",
      "Epoch 2, Loss: 0.6876720251083374\n",
      "Epoch 3, Loss: 0.6867514478365581\n",
      "Epoch 4, Loss: 0.6861423520088196\n",
      "Epoch 5, Loss: 0.6862242845217387\n",
      "Epoch 6, Loss: 0.685728587214152\n",
      "Epoch 7, Loss: 0.6855644564628601\n",
      "Epoch 8, Loss: 0.6856668841044108\n",
      "Epoch 9, Loss: 0.6853470479011535\n",
      "Epoch 10, Loss: 0.6853908466974894\n",
      "Epoch 11, Loss: 0.6848802458763122\n",
      "Epoch 12, Loss: 0.6852987973848979\n",
      "Epoch 13, Loss: 0.6851662438710531\n",
      "Epoch 14, Loss: 0.6850863438606262\n",
      "Epoch 15, Loss: 0.6850958802858989\n",
      "Epoch 16, Loss: 0.6849732658386231\n",
      "Epoch 17, Loss: 0.6847023622512818\n",
      "Epoch 18, Loss: 0.6846869513511658\n",
      "Epoch 19, Loss: 0.6848325843811035\n",
      "Epoch 20, Loss: 0.6850703391075135\n"
     ]
    }
   ],
   "source": [
    "import torch.optim as optim\n",
    "\n",
    "optimizer = optim.Adam(model.parameters(), lr=0.01)\n",
    "criterion = torch.nn.CrossEntropyLoss()\n",
    "\n",
    "# Training loop\n",
    "epochs = 20\n",
    "model.train()\n",
    "for epoch in range(epochs):\n",
    "    total_loss = 0\n",
    "    for data, labels in data_loader:\n",
    "        optimizer.zero_grad()\n",
    "        out = model(data)\n",
    "        # print(f\"Output shape: {out.shape}, Labels shape: {labels.shape}\")  # Debug print\n",
    "        if out.shape[0] != labels.shape[0]:  # Check to ensure shapes match\n",
    "            raise ValueError(f\"Output batch size {out.shape[0]} does not match target batch size {labels.shape[0]}\")\n",
    "        loss = criterion(out, labels)\n",
    "        loss.backward()\n",
    "        optimizer.step()\n",
    "        total_loss += loss.item()\n",
    "    print(f'Epoch {epoch + 1}, Loss: {total_loss / len(data_loader)}')"
   ]
  },
  {
   "cell_type": "code",
   "execution_count": 8,
   "id": "7060a6df",
   "metadata": {
    "execution": {
     "iopub.execute_input": "2024-06-10T16:15:07.661793Z",
     "iopub.status.busy": "2024-06-10T16:15:07.660921Z",
     "iopub.status.idle": "2024-06-10T16:15:25.285634Z",
     "shell.execute_reply": "2024-06-10T16:15:25.284120Z"
    },
    "papermill": {
     "duration": 17.639504,
     "end_time": "2024-06-10T16:15:25.288142",
     "exception": false,
     "start_time": "2024-06-10T16:15:07.648638",
     "status": "completed"
    },
    "tags": []
   },
   "outputs": [
    {
     "name": "stdout",
     "output_type": "stream",
     "text": [
      "Accuracy: 0.56435\n"
     ]
    }
   ],
   "source": [
    "def evaluate(model, data_loader):\n",
    "    model.eval()\n",
    "    correct = 0\n",
    "    for data, labels in data_loader:\n",
    "        out = model(data)\n",
    "        # print(f\"Output shape: {out.shape}, Labels shape: {labels.shape}\")  # Debug print\n",
    "        if out.shape[0] != labels.shape[0]:  # Check to ensure shapes match\n",
    "            raise ValueError(f\"Output batch size {out.shape[0]} does not match target batch size {labels.shape[0]}\")\n",
    "        pred = out.argmax(dim=1)\n",
    "        correct += (pred == labels).sum().item()\n",
    "    accuracy = correct / len(data_loader.dataset)\n",
    "    return accuracy\n",
    "\n",
    "# Evaluate the model\n",
    "accuracy = evaluate(model, data_loader)\n",
    "print('Accuracy:', accuracy)"
   ]
  },
  {
   "cell_type": "code",
   "execution_count": 9,
   "id": "f9598e16",
   "metadata": {
    "execution": {
     "iopub.execute_input": "2024-06-10T16:15:25.313326Z",
     "iopub.status.busy": "2024-06-10T16:15:25.312129Z",
     "iopub.status.idle": "2024-06-10T16:22:31.123735Z",
     "shell.execute_reply": "2024-06-10T16:22:31.122351Z"
    },
    "papermill": {
     "duration": 425.83794,
     "end_time": "2024-06-10T16:22:31.137780",
     "exception": false,
     "start_time": "2024-06-10T16:15:25.299840",
     "status": "completed"
    },
    "tags": []
   },
   "outputs": [
    {
     "name": "stdout",
     "output_type": "stream",
     "text": [
      "Saved predictions to /kaggle/working/test_predictions.csv\n"
     ]
    }
   ],
   "source": [
    "def make_predictions(model, test_data_loader):\n",
    "    model.eval()\n",
    "    predictions = []\n",
    "    with torch.no_grad():\n",
    "        for data in test_data_loader:\n",
    "            out = model(data)\n",
    "            pred = out.argmax(dim=1)\n",
    "            predictions.extend(pred.cpu().numpy())\n",
    "    return predictions\n",
    "\n",
    "# Use the prediction function to get predictions for the test data\n",
    "test_predictions = make_predictions(model, test_data_loader)\n",
    "\n",
    "# Add the predictions to the test dataframe\n",
    "test_df['binds'] = test_predictions\n",
    "\n",
    "# Select only the 'id' and 'binds' columns\n",
    "output_df = test_df[['id', 'binds']]\n",
    "\n",
    "# Save the dataframe to a CSV file\n",
    "output_csv_path = '/kaggle/working/test_predictions.csv'\n",
    "output_df.to_csv(output_csv_path, index=False)\n",
    "\n",
    "# Display the saved file path\n",
    "print(f'Saved predictions to {output_csv_path}')"
   ]
  }
 ],
 "metadata": {
  "kaggle": {
   "accelerator": "none",
   "dataSources": [
    {
     "databundleVersionId": 8006601,
     "sourceId": 67356,
     "sourceType": "competition"
    }
   ],
   "dockerImageVersionId": 30732,
   "isGpuEnabled": false,
   "isInternetEnabled": true,
   "language": "python",
   "sourceType": "notebook"
  },
  "kernelspec": {
   "display_name": "Python 3",
   "language": "python",
   "name": "python3"
  },
  "language_info": {
   "codemirror_mode": {
    "name": "ipython",
    "version": 3
   },
   "file_extension": ".py",
   "mimetype": "text/x-python",
   "name": "python",
   "nbconvert_exporter": "python",
   "pygments_lexer": "ipython3",
   "version": "3.10.13"
  },
  "papermill": {
   "default_parameters": {},
   "duration": 3610.50063,
   "end_time": "2024-06-10T16:22:34.281480",
   "environment_variables": {},
   "exception": null,
   "input_path": "__notebook__.ipynb",
   "output_path": "__notebook__.ipynb",
   "parameters": {},
   "start_time": "2024-06-10T15:22:23.780850",
   "version": "2.5.0"
  },
  "widgets": {
   "application/vnd.jupyter.widget-state+json": {
    "state": {
     "11f7897d0aa24b76a251e67abe6cbc10": {
      "model_module": "@jupyter-widgets/controls",
      "model_module_version": "1.5.0",
      "model_name": "FloatProgressModel",
      "state": {
       "_dom_classes": [],
       "_model_module": "@jupyter-widgets/controls",
       "_model_module_version": "1.5.0",
       "_model_name": "FloatProgressModel",
       "_view_count": null,
       "_view_module": "@jupyter-widgets/controls",
       "_view_module_version": "1.5.0",
       "_view_name": "ProgressView",
       "bar_style": "",
       "description": "",
       "description_tooltip": null,
       "layout": "IPY_MODEL_2547e2c017b54171ae81d4c456cc1ff4",
       "max": 100.0,
       "min": 0.0,
       "orientation": "horizontal",
       "style": "IPY_MODEL_ee419cabcf374f00ac29ebe1baab8117",
       "value": 100.0
      }
     },
     "2547e2c017b54171ae81d4c456cc1ff4": {
      "model_module": "@jupyter-widgets/base",
      "model_module_version": "1.2.0",
      "model_name": "LayoutModel",
      "state": {
       "_model_module": "@jupyter-widgets/base",
       "_model_module_version": "1.2.0",
       "_model_name": "LayoutModel",
       "_view_count": null,
       "_view_module": "@jupyter-widgets/base",
       "_view_module_version": "1.2.0",
       "_view_name": "LayoutView",
       "align_content": null,
       "align_items": null,
       "align_self": null,
       "border": null,
       "bottom": null,
       "display": null,
       "flex": null,
       "flex_flow": null,
       "grid_area": null,
       "grid_auto_columns": null,
       "grid_auto_flow": null,
       "grid_auto_rows": null,
       "grid_column": null,
       "grid_gap": null,
       "grid_row": null,
       "grid_template_areas": null,
       "grid_template_columns": null,
       "grid_template_rows": null,
       "height": null,
       "justify_content": null,
       "justify_items": null,
       "left": null,
       "margin": null,
       "max_height": null,
       "max_width": null,
       "min_height": null,
       "min_width": null,
       "object_fit": null,
       "object_position": null,
       "order": null,
       "overflow": null,
       "overflow_x": null,
       "overflow_y": null,
       "padding": null,
       "right": null,
       "top": null,
       "visibility": null,
       "width": "auto"
      }
     },
     "ee419cabcf374f00ac29ebe1baab8117": {
      "model_module": "@jupyter-widgets/controls",
      "model_module_version": "1.5.0",
      "model_name": "ProgressStyleModel",
      "state": {
       "_model_module": "@jupyter-widgets/controls",
       "_model_module_version": "1.5.0",
       "_model_name": "ProgressStyleModel",
       "_view_count": null,
       "_view_module": "@jupyter-widgets/base",
       "_view_module_version": "1.2.0",
       "_view_name": "StyleView",
       "bar_color": "black",
       "description_width": ""
      }
     }
    },
    "version_major": 2,
    "version_minor": 0
   }
  }
 },
 "nbformat": 4,
 "nbformat_minor": 5
}
